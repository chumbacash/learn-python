{
  "nbformat": 4,
  "nbformat_minor": 0,
  "metadata": {
    "colab": {
      "provenance": [],
      "authorship_tag": "ABX9TyPJkFhY6SOCUD/ty28b7Uke"
    },
    "kernelspec": {
      "name": "python3",
      "display_name": "Python 3"
    },
    "language_info": {
      "name": "python"
    }
  },
  "cells": [
    {
      "cell_type": "code",
      "execution_count": null,
      "metadata": {
        "colab": {
          "base_uri": "https://localhost:8080/"
        },
        "id": "u1HZEeVauiGb",
        "outputId": "ad8529ee-43a7-48f2-86a2-42cab961b05e"
      },
      "outputs": [
        {
          "output_type": "stream",
          "name": "stdout",
          "text": [
            "Hello world\n"
          ]
        }
      ],
      "source": [
        "#This how to start python from the start, with Hello world output\n",
        "\n",
        "print(\"Hello world\")"
      ]
    },
    {
      "cell_type": "code",
      "source": [
        "\n",
        "#variables\n",
        "# they are used to store data\n",
        "\n",
        "fruits = [\"apple\", \"banana\", \"cherry\"]\n",
        "x, y, z = fruits\n",
        "print(x)\n",
        "print(y)\n",
        "print(z)"
      ],
      "metadata": {
        "colab": {
          "base_uri": "https://localhost:8080/"
        },
        "id": "iso49sN2z9sl",
        "outputId": "2c0a65c1-efa3-4f42-f249-1f9ab14bc5d0"
      },
      "execution_count": null,
      "outputs": [
        {
          "output_type": "stream",
          "name": "stdout",
          "text": [
            "apple\n",
            "banana\n",
            "cherry\n"
          ]
        }
      ]
    },
    {
      "cell_type": "code",
      "source": [
        "x = \"Python\"\n",
        "y = \"is\"\n",
        "z = \"awesome\"\n",
        "print(x, y, z)"
      ],
      "metadata": {
        "colab": {
          "base_uri": "https://localhost:8080/"
        },
        "id": "MmeO2Qul0PMv",
        "outputId": "2d67ecf6-1923-49fe-a7fb-1fb2c91dfaf6"
      },
      "execution_count": null,
      "outputs": [
        {
          "output_type": "stream",
          "name": "stdout",
          "text": [
            "Python is awesome\n"
          ]
        }
      ]
    },
    {
      "cell_type": "code",
      "source": [
        "x = 5\n",
        "y = \"Amon\"\n",
        "print(x, y)"
      ],
      "metadata": {
        "colab": {
          "base_uri": "https://localhost:8080/"
        },
        "id": "KEW68ATH0xiO",
        "outputId": "3112b978-b30a-4b21-930e-78c27c76fd09"
      },
      "execution_count": null,
      "outputs": [
        {
          "output_type": "stream",
          "name": "stdout",
          "text": [
            "5 Amon\n"
          ]
        }
      ]
    },
    {
      "cell_type": "code",
      "source": [
        "print(x)"
      ],
      "metadata": {
        "colab": {
          "base_uri": "https://localhost:8080/"
        },
        "id": "Ty2vqTpY1XV7",
        "outputId": "f56c5243-f142-430b-8253-a1a1d4171556"
      },
      "execution_count": null,
      "outputs": [
        {
          "output_type": "stream",
          "name": "stdout",
          "text": [
            "5\n"
          ]
        }
      ]
    },
    {
      "cell_type": "code",
      "source": [
        "x = \"awesome\"\n",
        "\n",
        "def myfunc():\n",
        "  print(\"Python is \", x)\n",
        "\n",
        "myfunc()"
      ],
      "metadata": {
        "colab": {
          "base_uri": "https://localhost:8080/"
        },
        "id": "Q86F39tF1gWu",
        "outputId": "987c68f9-f2d3-45da-b323-d9e7c3d865a4"
      },
      "execution_count": null,
      "outputs": [
        {
          "output_type": "stream",
          "name": "stdout",
          "text": [
            "Python is  awesome\n"
          ]
        }
      ]
    },
    {
      "cell_type": "code",
      "source": [
        "#global variables\n",
        "\n",
        "def myfunc():\n",
        "  global x\n",
        "  x = \"fantastic\"\n",
        "\n",
        "myfunc()\n",
        "\n",
        "print(\"Python is \", x)"
      ],
      "metadata": {
        "colab": {
          "base_uri": "https://localhost:8080/"
        },
        "id": "11Hy1GE-2Hb7",
        "outputId": "3128b460-0411-4282-80bc-4466547bc647"
      },
      "execution_count": null,
      "outputs": [
        {
          "output_type": "stream",
          "name": "stdout",
          "text": [
            "Python is  fantastic\n"
          ]
        }
      ]
    },
    {
      "cell_type": "code",
      "source": [
        "#check type in a string\n",
        "\n",
        "x = \"Hello world\"\n",
        "\n",
        "print(type(x))"
      ],
      "metadata": {
        "colab": {
          "base_uri": "https://localhost:8080/"
        },
        "id": "REOn3Zqb3i3j",
        "outputId": "76c26a53-71cc-4ac4-9b8f-50950ce44e6b"
      },
      "execution_count": null,
      "outputs": [
        {
          "output_type": "stream",
          "name": "stdout",
          "text": [
            "<class 'str'>\n"
          ]
        }
      ]
    },
    {
      "cell_type": "code",
      "source": [
        "#check type in a list\n",
        "\n",
        "x = [\"apple\", \"Banana\", \"cherry\"]\n",
        "\n",
        "print(type(x))"
      ],
      "metadata": {
        "colab": {
          "base_uri": "https://localhost:8080/"
        },
        "id": "MkA37KuI5AfT",
        "outputId": "7b143399-6631-468e-f26b-474b76318810"
      },
      "execution_count": null,
      "outputs": [
        {
          "output_type": "stream",
          "name": "stdout",
          "text": [
            "<class 'list'>\n"
          ]
        }
      ]
    },
    {
      "cell_type": "code",
      "source": [
        "y = 6j\n",
        "\n",
        "print(type(y))"
      ],
      "metadata": {
        "colab": {
          "base_uri": "https://localhost:8080/"
        },
        "id": "GNlbUZ7m5nDg",
        "outputId": "daeec30b-5fcb-4593-e51f-3fcc066c1026"
      },
      "execution_count": null,
      "outputs": [
        {
          "output_type": "stream",
          "name": "stdout",
          "text": [
            "<class 'complex'>\n"
          ]
        }
      ]
    },
    {
      "cell_type": "code",
      "source": [
        "import random\n",
        "\n",
        "print(random.randrange(1, 10))"
      ],
      "metadata": {
        "colab": {
          "base_uri": "https://localhost:8080/"
        },
        "id": "2f714W1a6Kz7",
        "outputId": "24cf122c-e67e-4127-dff7-5d229759e205"
      },
      "execution_count": null,
      "outputs": [
        {
          "output_type": "stream",
          "name": "stdout",
          "text": [
            "2\n"
          ]
        }
      ]
    },
    {
      "cell_type": "code",
      "source": [
        "#strings are arrays\n",
        "\n",
        "a = \"Hello,  World!\"\n",
        "print(a[1])"
      ],
      "metadata": {
        "colab": {
          "base_uri": "https://localhost:8080/"
        },
        "id": "JHtKBFyk7ekO",
        "outputId": "d7b79ef8-79e9-4afc-de03-a9fa8e5c889b"
      },
      "execution_count": null,
      "outputs": [
        {
          "output_type": "stream",
          "name": "stdout",
          "text": [
            "e\n"
          ]
        }
      ]
    },
    {
      "cell_type": "code",
      "source": [
        "for x in \"Bananas\":\n",
        "  print(x)"
      ],
      "metadata": {
        "colab": {
          "base_uri": "https://localhost:8080/"
        },
        "id": "uRDt-5_-8dOt",
        "outputId": "2a2faa0e-41a3-4ef2-f39e-447cdfe3ef00"
      },
      "execution_count": null,
      "outputs": [
        {
          "output_type": "stream",
          "name": "stdout",
          "text": [
            "B\n",
            "a\n",
            "n\n",
            "a\n",
            "n\n",
            "a\n",
            "s\n"
          ]
        }
      ]
    },
    {
      "cell_type": "code",
      "source": [
        "#string lenght\n",
        "\n",
        "a = \"Hello, World!\"\n",
        "\n",
        "print(len(a))"
      ],
      "metadata": {
        "colab": {
          "base_uri": "https://localhost:8080/"
        },
        "id": "3KiyJruR8udU",
        "outputId": "d4392c98-e158-4103-a7c3-275f75fb2044"
      },
      "execution_count": null,
      "outputs": [
        {
          "output_type": "stream",
          "name": "stdout",
          "text": [
            "13\n"
          ]
        }
      ]
    },
    {
      "cell_type": "code",
      "source": [
        "#check string\n",
        "\n",
        "txt = \"Everything in life is for free. How you acquire them matters\"\n",
        "print(\"free\" in txt)"
      ],
      "metadata": {
        "colab": {
          "base_uri": "https://localhost:8080/"
        },
        "id": "GAuVK3Cg9Hfe",
        "outputId": "a91dca06-570c-45a1-c863-ed3bc4827c1b"
      },
      "execution_count": null,
      "outputs": [
        {
          "output_type": "stream",
          "name": "stdout",
          "text": [
            "True\n"
          ]
        }
      ]
    },
    {
      "cell_type": "code",
      "source": [
        "#Using the previous a to solve other problems\n",
        "#learn slicing\n",
        "\n",
        "print(a[2:5]) #Slicing\n",
        "print(a[:5]) #Slice From the Start\n",
        "print(a[2:]) #Slice To the End\n",
        "\n",
        "#negative indexing\n",
        "print(a[-5:-2])"
      ],
      "metadata": {
        "colab": {
          "base_uri": "https://localhost:8080/"
        },
        "id": "pNhRaIsp9uxd",
        "outputId": "4d845d7b-886c-4db0-e725-d92aacbd2603"
      },
      "execution_count": null,
      "outputs": [
        {
          "output_type": "stream",
          "name": "stdout",
          "text": [
            "llo\n",
            "Hello\n",
            "llo, World!\n",
            "orl\n"
          ]
        }
      ]
    },
    {
      "cell_type": "code",
      "source": [
        "# Modify Strings\n",
        "\n",
        "#upper case\n",
        "print(a.upper())\n",
        "\n",
        "#lower case\n",
        "print(a.lower())\n",
        "\n",
        "#remove whitespace\n",
        "print(a.strip())\n",
        "\n",
        "#replece string\n",
        "print(a.replace(\"H\", \"J\"))\n",
        "\n",
        "#Split string\n",
        "print(a.split(\",\"))"
      ],
      "metadata": {
        "colab": {
          "base_uri": "https://localhost:8080/"
        },
        "id": "KLnVrSgz-U45",
        "outputId": "c32460dc-c2e7-4d49-b1e1-20b579d08848"
      },
      "execution_count": null,
      "outputs": [
        {
          "output_type": "stream",
          "name": "stdout",
          "text": [
            "HELLO, WORLD!\n",
            "hello, world!\n",
            "Hello, World!\n",
            "Jello, World!\n",
            "['Hello', ' World!']\n"
          ]
        }
      ]
    },
    {
      "cell_type": "code",
      "source": [
        "#String Format\n",
        "\n",
        "cars = 2\n",
        "items_number = 7899\n",
        "price = 60000\n",
        "\n",
        "my_order = \"I want {} of my cars with {} of item number for {} in dollars\"\n",
        "print(my_order.format(cars, items_number, price))"
      ],
      "metadata": {
        "colab": {
          "base_uri": "https://localhost:8080/"
        },
        "id": "1u9rOTEKAtio",
        "outputId": "922d3822-eb99-4f18-f7e2-50e5678622fc"
      },
      "execution_count": null,
      "outputs": [
        {
          "output_type": "stream",
          "name": "stdout",
          "text": [
            "I want 2 of my cars with 7899 of item number for 60000 in dollars\n"
          ]
        }
      ]
    },
    {
      "cell_type": "code",
      "source": [
        "#Escape Characters\n",
        "\n",
        "# examples of o escape characters are double quote inside a string\n",
        "\n",
        "# let's try and solve this problem,\n",
        "\n",
        "txt = 'We are the so-called \\\"Vikings\"\\ from the north' #we used a backslash\n",
        "\n",
        "# \\n - new line\n",
        "# \\t - tab\n",
        "# \\' - single quote\n",
        "\n",
        "print(txt)"
      ],
      "metadata": {
        "id": "l1YYdSHKDWTE",
        "colab": {
          "base_uri": "https://localhost:8080/"
        },
        "outputId": "8c9204c9-f9ac-4cbe-e666-9c607868a696"
      },
      "execution_count": null,
      "outputs": [
        {
          "output_type": "stream",
          "name": "stdout",
          "text": [
            "We are the so-called \"Vikings\"\\ from the north\n"
          ]
        }
      ]
    },
    {
      "cell_type": "code",
      "source": [
        "#capitalize() -\tConverts the first character to upper case\n",
        "\n",
        "#format_map()\tFormats specified values in a string\n",
        "\n",
        "#find()\tSearches the string for a specified value and returns the position of where it was found\n",
        "\n",
        "#isdigit()\tReturns True if all characters in the string are digits"
      ],
      "metadata": {
        "id": "VD8d6kT8Mgwq"
      },
      "execution_count": null,
      "outputs": []
    },
    {
      "cell_type": "code",
      "source": [
        "#Booleans\n",
        "\n",
        "#Booleans represents one of the two values: True or false\n",
        "\n",
        "print(10>9)\n",
        "print(6==7)\n",
        "\n",
        "a = 200\n",
        "b = 33\n",
        "\n",
        "if b > a:\n",
        "  print(\"b is greater than a\")\n",
        "\n",
        "else:\n",
        "  print('b is less than a')\n",
        "\n",
        "print(bool(\"15\"))\n",
        "\n",
        "def myFunc():\n",
        "  return True\n",
        "\n",
        "if myFunc():\n",
        "  print(\"YES!\")\n",
        "\n",
        "else:\n",
        "  print(\"NO!\")"
      ],
      "metadata": {
        "colab": {
          "base_uri": "https://localhost:8080/"
        },
        "id": "CnjZM0w_Ns_N",
        "outputId": "8ad3e9a3-1696-4742-d159-abe5a1687e02"
      },
      "execution_count": null,
      "outputs": [
        {
          "output_type": "stream",
          "name": "stdout",
          "text": [
            "True\n",
            "False\n",
            "b is less than a\n",
            "True\n",
            "YES!\n"
          ]
        }
      ]
    },
    {
      "cell_type": "code",
      "source": [
        "#Operators\n",
        "\n",
        "#Used to perform operations on variables and values.\n",
        "\n",
        "\n",
        "# +\tAddition        \t  x + y\n",
        "# -\tSubtraction\t        x - y\n",
        "# *\tMultiplication\t    x * y\n",
        "# /\tDivision           \tx / y\n",
        "# %\tModulus\t            x % y\n",
        "# **\tExponentiation\t  x ** y\n",
        "# //\tFloor division  \tx // y\n",
        "\n",
        "print(10 + 5)\n",
        "\n",
        "#PYTHON LOGICAL OPERATORS\n",
        "\n",
        "# and, or and not\n"
      ],
      "metadata": {
        "colab": {
          "base_uri": "https://localhost:8080/"
        },
        "id": "xYf9i4IUOjG8",
        "outputId": "183b38f6-deca-4ab7-85c0-463d4c36b56d"
      },
      "execution_count": null,
      "outputs": [
        {
          "output_type": "stream",
          "name": "stdout",
          "text": [
            "15\n"
          ]
        }
      ]
    },
    {
      "cell_type": "code",
      "source": [
        "#Lists\n",
        "\n",
        "# They are used to store multiple items in a variable\n",
        "#List are ordered and changeable, and allow duplicate values\n",
        "\n",
        "fruits = [\"apple\", \"Banana\", \"Pineapple\"]\n",
        "print(fruits)\n",
        "print(len(fruits))\n",
        "print(type(fruits))\n",
        "\n",
        "# access items in a list\n",
        "print(fruits[2])\n",
        "print(fruits[-2])\n",
        "\n",
        "fruits[1:3] = [\"watermelon\", \"cherry\", \"mangoes\"]\n",
        "\n",
        "print(fruits)"
      ],
      "metadata": {
        "colab": {
          "base_uri": "https://localhost:8080/"
        },
        "id": "vUhfV4fRSke0",
        "outputId": "b2d3dffc-6147-4aca-d64b-154bcec1260c"
      },
      "execution_count": null,
      "outputs": [
        {
          "output_type": "stream",
          "name": "stdout",
          "text": [
            "['apple', 'Banana', 'Pineapple']\n",
            "3\n",
            "<class 'list'>\n",
            "Pineapple\n",
            "Banana\n",
            "['apple', 'watermelon', 'cherry', 'mangoes']\n"
          ]
        }
      ]
    },
    {
      "cell_type": "code",
      "source": [
        "# append items\n",
        "# to add an item to the end of the list, use the append() method:\n",
        "\n",
        "print(fruits)\n",
        "\n",
        "fruits = [\"banana\", \"apple\", \"cherry\"]\n",
        "fruits.append(\"oranges\")\n",
        "print(fruits)\n",
        "\n",
        "fruits.insert(1, \"grapes\")\n",
        "print(fruits)\n",
        "\n",
        "#extend() method\n",
        "#used to append elements from another list to the current list, example below:\n",
        "\n",
        "fruits = [\"banana\", \"apple\", \"cherry\"]\n",
        "tropical = [\"mango\", \"pineapple\", \"papaya\"]\n",
        "fruits.extend(tropical)\n",
        "print(fruits)\n",
        "\n",
        "# also extend() method does not have to append lists, you can add any iterable object\n",
        "#(tuples, sets, dicts)\n",
        "\n",
        "#Example to add elements of a tuple to list\n",
        "thistuple = (\"kiwi\", \"watermelon\")\n",
        "fruits.extend(thistuple)\n",
        "print(fruits)\n"
      ],
      "metadata": {
        "colab": {
          "base_uri": "https://localhost:8080/"
        },
        "id": "x5ZijwBmT2M6",
        "outputId": "c73430e8-b1a0-4da1-e8f5-0fd5c1dc3453"
      },
      "execution_count": null,
      "outputs": [
        {
          "output_type": "stream",
          "name": "stdout",
          "text": [
            "['apple', 'watermelon', 'cherry', 'mangoes']\n",
            "['banana', 'apple', 'cherry', 'oranges']\n",
            "['banana', 'grapes', 'apple', 'cherry', 'oranges']\n",
            "['banana', 'apple', 'cherry', 'mango', 'pineapple', 'papaya']\n",
            "['banana', 'apple', 'cherry', 'mango', 'pineapple', 'papaya', 'kiwi', 'watermelon']\n"
          ]
        }
      ]
    },
    {
      "cell_type": "code",
      "source": [
        "fruits = [\"banana\", \"apple\", \"kiwi\", \"banana\", \"cherry\"]\n",
        "\n",
        "# the remove() method removes the first occurance:\n",
        "\n",
        "fruits.remove(\"banana\")\n",
        "print(fruits)\n",
        "\n",
        "#remove specified index\n",
        "#if yo don't specify the index, the pop() method removes the last item:\n",
        "\n",
        "fruits = [\"banana\", \"apple\", \"cherry\"]\n",
        "fruits.pop(1)\n",
        "print(fruits)\n",
        "\n",
        "fruits = [\"apple\", \"Banana\", \"Pineapple\"]\n",
        "fruits.pop() #index not specified\n",
        "print(fruits)\n",
        "\n",
        "# del keyword also removes the specified index:\n",
        "\n",
        "fruits = [\"apple\", \"Banana\", \"Pineapple\"]\n",
        "del fruits[0]\n",
        "print(fruits)\n",
        "\n",
        "#clear the list\n",
        "# the clear() method empties the list\n",
        "\n",
        "fruits = [\"apple\", \"Banana\", \"Pineapple\"]\n",
        "fruits.clear()\n",
        "print(fruits)"
      ],
      "metadata": {
        "colab": {
          "base_uri": "https://localhost:8080/"
        },
        "id": "cnxJiAEcZcaC",
        "outputId": "fdad7139-20e1-4eba-806e-3cb83f75449e"
      },
      "execution_count": null,
      "outputs": [
        {
          "output_type": "stream",
          "name": "stdout",
          "text": [
            "['apple', 'kiwi', 'banana', 'cherry']\n",
            "['banana', 'cherry']\n",
            "['apple', 'Banana']\n",
            "['Banana', 'Pineapple']\n",
            "[]\n"
          ]
        }
      ]
    },
    {
      "cell_type": "code",
      "source": [
        "#Loop through a list\n",
        "\n",
        "fruits = [\"apple\", \"Banana\", \"cherry\"]\n",
        "for x in fruits:\n",
        "  print(x)\n",
        "\n",
        "# You can also loop through the list items by referring totheir index number\n",
        "\n",
        "fruits = [\"apple\", \"Banana\", \"cherry\"]\n",
        "for i in range(len(fruits)):\n",
        "  print(fruits[i])"
      ],
      "metadata": {
        "colab": {
          "base_uri": "https://localhost:8080/"
        },
        "id": "5KDN32VmbwNX",
        "outputId": "72482259-fb76-4347-bafc-f0c895e3b2ad"
      },
      "execution_count": null,
      "outputs": [
        {
          "output_type": "stream",
          "name": "stdout",
          "text": [
            "apple\n",
            "Banana\n",
            "cherry\n",
            "apple\n",
            "Banana\n",
            "cherry\n"
          ]
        }
      ]
    },
    {
      "cell_type": "code",
      "source": [
        "# Using a While Loop\n",
        "fruits = [\"apple\", \"Banana\", \"cherry\"]\n",
        "i = 0\n",
        "while i < len(fruits):\n",
        "  print(fruits[i])\n",
        "  i+=i\n",
        "\n",
        "#list comprehension\n",
        "[print(x) for x in fruits]"
      ],
      "metadata": {
        "id": "zJuM1p4tf5ej"
      },
      "execution_count": null,
      "outputs": []
    },
    {
      "cell_type": "code",
      "source": [
        "# sort list alphanumerically\n",
        "\n",
        "fruits = [\"orange\", \"mango\", \"kiwi\", \"pineapple\", \"banana\"]\n",
        "fruits.sort()\n",
        "print(fruits)\n",
        "\n",
        "numbers = [20, 3, 78, 200, 60, 30]\n",
        "numbers.sort()\n",
        "print(numbers)\n",
        "\n",
        "#sort decending by using reverse = True"
      ],
      "metadata": {
        "colab": {
          "base_uri": "https://localhost:8080/"
        },
        "id": "mLrWbMmhhpG5",
        "outputId": "53b14040-f0f1-4cde-840c-126eb8710d15"
      },
      "execution_count": null,
      "outputs": [
        {
          "output_type": "stream",
          "name": "stdout",
          "text": [
            "['banana', 'kiwi', 'mango', 'orange', 'pineapple']\n",
            "[3, 20, 30, 60, 78, 200]\n"
          ]
        }
      ]
    },
    {
      "cell_type": "markdown",
      "source": [
        "\n",
        "```\n",
        "append()\tAdds an element at the end of the list\n",
        "clear()\t Removes all the elements from the list\n",
        "copy()  \tReturns a copy of the list\n",
        "count() \tReturns the number of elements with the specified value\n",
        "extend()\tAdd the elements of a list (or any iterable), to the end of the current list\n",
        "index() \tReturns the index of the first element with the specified value\n",
        "insert()\tAdds an element at the speci fied position\n",
        "pop()\tRemoves the element at the specified position\n",
        "remove()\tRemoves the item with the specified value\n",
        "reverse()\tReverses the order of the list\n",
        "sort()\tSorts the list\n",
        "```\n",
        "\n",
        "\n"
      ],
      "metadata": {
        "id": "z7tbpGeunTMm"
      }
    },
    {
      "cell_type": "code",
      "source": [
        "#copy a list\n",
        "# You cannot copy a list\n",
        "# simply by typing list2 = list1, because: list2 will only be\n",
        "# a reference to list1, and changes made in list1 will automatically\n",
        "# also be made in list2.\n",
        "\n",
        "fruits = [\"apple\", \"banana\", \"cherry\"]\n",
        "myfruits = fruits.copy()\n",
        "print(myfruits)"
      ],
      "metadata": {
        "colab": {
          "base_uri": "https://localhost:8080/"
        },
        "id": "Ne6_dYsalFbZ",
        "outputId": "2c6501ac-639f-412d-c415-72d8229e016d"
      },
      "execution_count": null,
      "outputs": [
        {
          "output_type": "stream",
          "name": "stdout",
          "text": [
            "['apple', 'banana', 'cherry']\n"
          ]
        }
      ]
    },
    {
      "cell_type": "code",
      "source": [
        "#TUPLE\n",
        "#tuples are ordered and unchangeable\n",
        "#tuples are used to store multiple items in a single variable\n",
        "\n",
        "tuple = (\"apple\", \"banana\", \"cherry\")\n",
        "print(tuple)\n",
        "\n",
        "tuple = (\"apple\", \"banana\", \"cherry\")\n",
        "print(len(tuple))\n",
        "\n",
        "#check if item exists\n",
        "\n",
        "if \"apple\" in tuple:\n",
        "  print(\"Yes, 'apple' is in fruits tuple \")"
      ],
      "metadata": {
        "colab": {
          "base_uri": "https://localhost:8080/"
        },
        "id": "9N19fIISn3z5",
        "outputId": "90a9c8c5-9d8d-44df-e4c6-b71efb1b58d4"
      },
      "execution_count": null,
      "outputs": [
        {
          "output_type": "stream",
          "name": "stdout",
          "text": [
            "('apple', 'banana', 'cherry')\n",
            "3\n",
            "Yes, 'apple' is in fruits tuple \n"
          ]
        }
      ]
    },
    {
      "cell_type": "code",
      "source": [
        "x = (\"apple\", \"banana\", \"cherry\")"
      ],
      "metadata": {
        "id": "fgdoXYrUr6_k"
      },
      "execution_count": null,
      "outputs": []
    },
    {
      "cell_type": "code",
      "source": [
        "#convert a tuple values\n",
        "\n",
        "tuple = (\"apple\", \"banana\", \"cherry\")\n",
        "y = list(tuple)\n",
        "y.append(\"orange\", )\n",
        "print(tuple)"
      ],
      "metadata": {
        "colab": {
          "base_uri": "https://localhost:8080/"
        },
        "id": "i8mNT8NQswiD",
        "outputId": "4062f4be-3ee6-458b-f3dc-bf4c5f838d67"
      },
      "execution_count": null,
      "outputs": [
        {
          "output_type": "stream",
          "name": "stdout",
          "text": [
            "('apple', 'banana', 'cherry')\n"
          ]
        }
      ]
    },
    {
      "cell_type": "markdown",
      "source": [
        "\n",
        "\n",
        "```\n",
        "unpacking a tuple\n",
        "```\n",
        "\n"
      ],
      "metadata": {
        "id": "cnNQAP4YvpZM"
      }
    },
    {
      "cell_type": "code",
      "source": [
        "fruits = (\"apple\", \"banana\", \"cherry\")\n",
        "\n",
        "(green, yellow, red) = fruits\n",
        "print(green)\n",
        "print(yellow)\n",
        "print(red)\n",
        "\n",
        "fruits = (\"apple\", \"banana\", \"cherry\", \"strawberry\", \"raspberry\")\n",
        "\n",
        "(green, *yellow, red) = fruits\n",
        "\n",
        "print(green)\n",
        "print(yellow)\n",
        "print(red)"
      ],
      "metadata": {
        "colab": {
          "base_uri": "https://localhost:8080/"
        },
        "id": "EFsKzv7lvx9e",
        "outputId": "6621a8f3-1e21-4e81-9f6f-6c9740cc8ea2"
      },
      "execution_count": null,
      "outputs": [
        {
          "output_type": "stream",
          "name": "stdout",
          "text": [
            "apple\n",
            "banana\n",
            "cherry\n",
            "apple\n",
            "['banana', 'cherry', 'strawberry']\n",
            "raspberry\n"
          ]
        }
      ]
    },
    {
      "cell_type": "code",
      "source": [
        "#Loop through the index\n",
        "# using range() and len() functions to create a suitable iterable\n",
        "\n",
        "tuple = (\"apple\", \"banana\", \"cherry\")\n",
        "\n",
        "for i in range(len(fruits)):\n",
        "  print(fruits[i])\n",
        "\n",
        "# using while loop\n",
        "\n",
        "tuple = (\"apple\", \"banana\", \"cherry\")\n",
        "\n",
        "i = 0\n",
        "\n",
        "while i < len(tuple):\n",
        "  print(tuple[i])\n",
        "\n",
        "  i = i + 1\n"
      ],
      "metadata": {
        "colab": {
          "base_uri": "https://localhost:8080/"
        },
        "id": "DmzoYe_KyZvg",
        "outputId": "1020bf2c-c784-44bb-f195-7bfbd8ac34e1"
      },
      "execution_count": null,
      "outputs": [
        {
          "output_type": "stream",
          "name": "stdout",
          "text": [
            "apple\n",
            "banana\n",
            "cherry\n",
            "strawberry\n",
            "raspberry\n",
            "apple\n",
            "banana\n",
            "cherry\n"
          ]
        }
      ]
    },
    {
      "cell_type": "code",
      "source": [
        "#Join two tuples\n",
        "\n",
        "tuple_one = (\"a\", \"b\", \"c\")\n",
        "tuple_two = (1, 2, 3)\n",
        "\n",
        "tuple_three = tuple_one + tuple_two\n",
        "\n",
        "print(tuple_three)"
      ],
      "metadata": {
        "colab": {
          "base_uri": "https://localhost:8080/"
        },
        "id": "n4XoK91CKoEN",
        "outputId": "bcba55a6-ce7d-4f38-ce4c-26d09300ff9b"
      },
      "execution_count": null,
      "outputs": [
        {
          "output_type": "stream",
          "name": "stdout",
          "text": [
            "('a', 'b', 'c', 1, 2, 3)\n"
          ]
        }
      ]
    },
    {
      "cell_type": "code",
      "source": [
        "#Python sets\n",
        "\n",
        "set = {\"apple\", \"banana\", \"cherry\"}\n",
        "\n",
        "print(set)"
      ],
      "metadata": {
        "colab": {
          "base_uri": "https://localhost:8080/"
        },
        "id": "SfdFxZTAOr4W",
        "outputId": "c831b7cc-ec9c-4d09-ae9f-0538650aacd9"
      },
      "execution_count": null,
      "outputs": [
        {
          "output_type": "stream",
          "name": "stdout",
          "text": [
            "{'banana', 'cherry', 'apple'}\n"
          ]
        }
      ]
    },
    {
      "cell_type": "code",
      "source": [
        "# Access items in a set\n",
        "\n",
        "set = {\"apple\", \"banana\", \"cherry\"}\n",
        "\n",
        "for x in set:\n",
        "  print(x)\n",
        "\n",
        "\n",
        "#check if item is available in the set\n",
        "\n",
        "print(\"banana\" in set)"
      ],
      "metadata": {
        "id": "98uoOGYgQdHE",
        "colab": {
          "base_uri": "https://localhost:8080/"
        },
        "outputId": "ddf54645-f605-4a73-a438-584e6a7ceea7"
      },
      "execution_count": null,
      "outputs": [
        {
          "output_type": "stream",
          "name": "stdout",
          "text": [
            "banana\n",
            "cherry\n",
            "apple\n",
            "True\n"
          ]
        }
      ]
    },
    {
      "cell_type": "code",
      "source": [
        "# add set in items\n",
        "\n",
        "set = {\"apple\", \"banana\", \"cherry\"}\n",
        "\n",
        "set.add(\"orange\")\n",
        "\n",
        "print(set)\n",
        "\n",
        "#To add items from another set into the current set using update() method\n",
        "\n",
        "set = {\"apple\", \"banana\", \"cherry\"}\n",
        "fruits = {\"pineapple\", \"mango\", \"papaya\"}\n",
        "\n",
        "set.update(fruits)\n",
        "print(set)\n",
        "\n",
        "# also you can use this method to update any iterable be it tuples, lists and dics"
      ],
      "metadata": {
        "colab": {
          "base_uri": "https://localhost:8080/"
        },
        "id": "bAbmDFri228M",
        "outputId": "f655022f-1419-41be-9cc1-8e72e83f79f3"
      },
      "execution_count": null,
      "outputs": [
        {
          "output_type": "stream",
          "name": "stdout",
          "text": [
            "{'banana', 'orange', 'cherry', 'apple'}\n",
            "{'pineapple', 'papaya', 'mango', 'cherry', 'apple', 'banana'}\n"
          ]
        }
      ]
    },
    {
      "cell_type": "markdown",
      "source": [
        "\n",
        "\n",
        "```\n",
        "You can also use the pop() method to remove an item, but this method will\n",
        "remove a random item, so you cannot be sure what item that gets removed.\n",
        "```\n",
        "\n"
      ],
      "metadata": {
        "id": "BfEDFu3r6C4Q"
      }
    },
    {
      "cell_type": "code",
      "source": [
        "# remove item from a set\n",
        "#To remove an item in a set, use the remove(), or the discard() method.\n",
        "\n",
        "set = {\"apple\", \"banana\", \"cherry\"}\n",
        "\n",
        "set.remove(\"banana\")\n",
        "\n",
        "print(set)\n",
        "\n",
        "# discard() method\n",
        "\n",
        "set = {\"apple\", \"banana\", \"cherry\"}\n",
        "\n",
        "set.discard(\"banana\")\n",
        "\n",
        "print(set)\n",
        "\n",
        "#If the item to remove does not exist, discard() will NOT raise an error.\n",
        "\n",
        "#using pop() method\n",
        "\n",
        "set = {\"apple\", \"banana\", \"cherry\"}\n",
        "\n",
        "set_two = set.pop()\n",
        "\n",
        "print(set_two)\n",
        "\n",
        "print(set)\n",
        "\n",
        "# Remember clear() method empties the set\n",
        "\n",
        "set = {\"apple\", \"banana\", \"cherry\"}\n",
        "\n",
        "set.clear()\n",
        "\n",
        "print(set)\n",
        "\n",
        "# del method will delete set completely\n",
        "\n",
        "set = {\"apple\", \"banana\", \"cherry\"}\n",
        "\n",
        "del set\n",
        "\n",
        "print(set)"
      ],
      "metadata": {
        "colab": {
          "base_uri": "https://localhost:8080/"
        },
        "id": "9NvuTzux6HYO",
        "outputId": "e8f00c88-1450-4d6c-f156-a1daf3b4f085"
      },
      "execution_count": null,
      "outputs": [
        {
          "output_type": "stream",
          "name": "stdout",
          "text": [
            "{'cherry', 'apple'}\n",
            "{'cherry', 'apple'}\n",
            "banana\n",
            "{'cherry', 'apple'}\n",
            "set()\n",
            "<class 'set'>\n"
          ]
        }
      ]
    },
    {
      "cell_type": "code",
      "source": [
        "# Loop in set\n",
        "\n",
        "set = {\"apple\", \"banana\", \"cherry\"}\n",
        "\n",
        "for x in fruits:\n",
        "  print(x)"
      ],
      "metadata": {
        "colab": {
          "base_uri": "https://localhost:8080/"
        },
        "id": "8l2Tgmm2-_9i",
        "outputId": "bb9de9cd-0389-4657-fd2f-cac0964f6d2d"
      },
      "execution_count": null,
      "outputs": [
        {
          "output_type": "stream",
          "name": "stdout",
          "text": [
            "pineapple\n",
            "mango\n",
            "papaya\n"
          ]
        }
      ]
    },
    {
      "cell_type": "code",
      "source": [
        "# Join set\n",
        "\n",
        "#using union() method\n",
        "set_one = {\"a\", \"b\", \"c\"}\n",
        "set_two = {1, 2, 3}\n",
        "\n",
        "set_three = set_one.union(set_two)\n",
        "\n",
        "print(set_three)\n",
        "\n",
        "#using update() method\n",
        "\n",
        "set_one.update(set_two)\n",
        "\n",
        "print(set_one)"
      ],
      "metadata": {
        "colab": {
          "base_uri": "https://localhost:8080/"
        },
        "id": "wCzIHWWh_e1O",
        "outputId": "7bae9e8b-5573-4866-d3da-90e2734cc792"
      },
      "execution_count": null,
      "outputs": [
        {
          "output_type": "stream",
          "name": "stdout",
          "text": [
            "{1, 2, 3, 'b', 'a', 'c'}\n",
            "{1, 2, 3, 'b', 'a', 'c'}\n"
          ]
        }
      ]
    },
    {
      "cell_type": "markdown",
      "source": [
        "\n",
        "\n",
        "```\n",
        "Both union() and update() will exclude any duplicate items.\n",
        "```\n",
        "\n"
      ],
      "metadata": {
        "id": "JyX_Ls_JBM0C"
      }
    },
    {
      "cell_type": "markdown",
      "source": [
        "\n",
        "\n",
        "```\n",
        "Python has a set of built-in methods that you can use on sets.\n",
        "\n",
        "Method\tDescription\n",
        "add()  \tAdds an element to the set\n",
        "clear() \tRemoves all the elements from the set\n",
        "copy()\t  Returns a copy of the set\n",
        "difference()\tReturns a set containing the difference between two or more sets\n",
        "difference_update()\tRemoves the items in this set that are also included in another, specified set\n",
        "discard()\tRemove the specified item\n",
        "intersection()\tReturns a set, that is the intersection of two other sets\n",
        "intersection_update()\tRemoves the items in this set that are not present in other, specified set(s)\n",
        "isdisjoint()\tReturns whether two sets have a intersection or not\n",
        "issubset()\tReturns whether another set contains this set or not\n",
        "issuperset()\tReturns whether this set contains another set or not\n",
        "pop()\tRemoves an element from the set\n",
        "remove()\tRemoves the specified element\n",
        "symmetric_difference()\tReturns a set with the symmetric differences of two sets\n",
        "symmetric_difference_update()\tinserts the symmetric differences from this set and another\n",
        "union()\tReturn a set containing the union of sets\n",
        "update()\tUpdate the set with the union of this set and others\n",
        "```\n",
        "\n"
      ],
      "metadata": {
        "id": "QgJU0xwhBqch"
      }
    },
    {
      "cell_type": "code",
      "source": [
        "#Python Dictionaries\n",
        "\n",
        "#Dictionaries are used to store data values in key:value pairs.\n",
        "#Dictionaries are written in curly brackets, and have keys and values:\n",
        "\n",
        "dict = {\n",
        "    \"brand\": \"Ford\",\n",
        "    \"model\": \"Mustang\",\n",
        "    \"year\": 1964\n",
        "}\n",
        "\n",
        "print(dict)\n",
        "\n",
        "#Determine the dict length using len() function\n",
        "\n",
        "print(len(dict))\n",
        "\n",
        "#detemine the type sung type() method\n",
        "\n",
        "print(type(dict))"
      ],
      "metadata": {
        "colab": {
          "base_uri": "https://localhost:8080/"
        },
        "id": "Y9zcxbNrBW59",
        "outputId": "b99b7b49-013c-4428-ab62-1c3a2902798d"
      },
      "execution_count": null,
      "outputs": [
        {
          "output_type": "stream",
          "name": "stdout",
          "text": [
            "{'brand': 'Ford', 'model': 'Mustang', 'year': 1964}\n",
            "3\n",
            "<class 'dict'>\n"
          ]
        }
      ]
    },
    {
      "cell_type": "markdown",
      "source": [
        "\n",
        "\n",
        "```\n",
        "- Duplicates not allowed in dictionaries\n",
        "- We can make dictionaries from constructors\n",
        "\n",
        "```\n",
        "\n"
      ],
      "metadata": {
        "id": "RoB3S5L3aLvZ"
      }
    },
    {
      "cell_type": "code",
      "source": [
        "# The dict() constructors\n",
        "\n",
        "# dict_one = dict(name = \"John\", age = 36, country = \"Kenya\")\n",
        "\n",
        "# print(dict_one)\n",
        "\n"
      ],
      "metadata": {
        "id": "oUnNg0rtGgqY"
      },
      "execution_count": null,
      "outputs": []
    },
    {
      "cell_type": "markdown",
      "source": [
        "\n",
        "\n",
        "```\n",
        "Python Collections (Arrays)\n",
        "There are four collection data types in the Python programming language:\n",
        "\n",
        "**List** is a collection which is ordered and changeable. Allows duplicate members.\n",
        "**Tuple** is a collection which is ordered and unchangeable. Allows duplicate members.\n",
        "**Set** is a collection which is unordered, unchangeable*, and unindexed. No duplicate members.\n",
        "**Dictionary** is a collection which is ordered** and changeable. No duplicate members.\n",
        "```\n",
        "\n"
      ],
      "metadata": {
        "id": "VKyn366wddaz"
      }
    },
    {
      "cell_type": "code",
      "source": [
        "# Access items in a dictionary\n",
        "\n",
        "dict ={\n",
        "    \"brand\" : \"Ford\",\n",
        "    \"model\" : \"Mustang\",\n",
        "    \"Year\" : 1964\n",
        "\n",
        "}\n",
        "\n",
        "x = dict[\"model\"]\n",
        "\n",
        "print(x)\n",
        "\n",
        "y = dict.get(\"brand\")\n",
        "\n",
        "print(y)\n",
        "\n",
        "# add items to original dictionary\n",
        "\n",
        "car ={\n",
        "    \"brand\" : \"Ford\",\n",
        "    \"model\" : \"Mustang\",\n",
        "    \"Year\" : 1964\n",
        "\n",
        "}\n",
        "\n",
        "a = car.values()\n",
        "\n",
        "print(a)\n",
        "\n",
        "car[\"color\"] = \"red\"\n",
        "\n",
        "print(a)\n",
        "\n",
        "#check if key exists in a dictionary\n",
        "\n",
        "if \"model\" in car:\n",
        "  print(\"Yes, 'model' is one of the keys in the car dictionary\")\n",
        "\n",
        "# change values in dictionary\n",
        "car[\"Year\"] = 2018\n",
        "\n",
        "print(car)\n",
        "\n",
        "# Update dictionary\n",
        "# the update() method will update the dict with the items in arguments given\n",
        "\n",
        "car.update({\"year\": 2020})\n",
        "\n",
        "print(car)\n",
        "\n"
      ],
      "metadata": {
        "colab": {
          "base_uri": "https://localhost:8080/"
        },
        "id": "Fx60Koe_dVYs",
        "outputId": "826f07d6-fbd5-4be8-8a11-69c2ea2e6f45"
      },
      "execution_count": null,
      "outputs": [
        {
          "output_type": "stream",
          "name": "stdout",
          "text": [
            "Mustang\n",
            "Ford\n",
            "dict_values(['Ford', 'Mustang', 1964])\n",
            "dict_values(['Ford', 'Mustang', 1964, 'red'])\n",
            "Yes, 'model' is one of the keys in the car dictionary\n",
            "{'brand': 'Ford', 'model': 'Mustang', 'Year': 2018, 'color': 'red'}\n",
            "{'brand': 'Ford', 'model': 'Mustang', 'Year': 2018, 'color': 'red', 'year': 2020}\n"
          ]
        }
      ]
    },
    {
      "cell_type": "code",
      "source": [
        "#Removeitems from a dictionary\n",
        "\n",
        "# There are a several methods\n",
        " #using pop() models it removes item with key name\n",
        "car = {\n",
        "    \"brand\" : \"Ford\",\n",
        "    \"model\" : \"Mustang\",\n",
        "    \"year\" : 1964\n",
        "}\n",
        "\n",
        "car.pop(\"model\")\n",
        "print(car)\n",
        "\n",
        "#using popitem()\n",
        "\n",
        "car = {\n",
        "    \"brand\" : \"Ford\",\n",
        "    \"model\" : \"Mustang\",\n",
        "    \"year\" : 1964\n",
        "}\n",
        "\n",
        "car.popitem()\n",
        "print(car)\n",
        "\n",
        "#del keyword can also delete dict completely error will arise\n",
        "\n",
        "car = {\n",
        "    \"brand\" : \"Ford\",\n",
        "    \"model\" : \"Mustang\",\n",
        "    \"year\" : 1964\n",
        "}\n",
        "\n",
        "del car # this will cause an error because \"car\" no longer exists\n",
        "\n",
        "\n",
        "#clear() method empties the dict\n",
        "\n",
        "car = {\n",
        "    \"brand\" : \"Ford\",\n",
        "    \"model\" : \"Mustang\",\n",
        "    \"year\" : 1964\n",
        "}\n",
        "\n",
        "car.clear()\n",
        "print(car)\n",
        "\n",
        "#loop dictionaries\n",
        "\n",
        "car = {\n",
        "    \"brand\" : \"Ford\",\n",
        "    \"model\" : \"Mustang\",\n",
        "    \"year\" : 1964\n",
        "}\n",
        "\n",
        "for a in car:\n",
        "  print(a)\n",
        "\n",
        "\n",
        "# copy a dict\n",
        "car = {\n",
        "    \"brand\" : \"Ford\",\n",
        "    \"model\" : \"Mustang\",\n",
        "    \"year\" : 1964\n",
        "}\n",
        "\n",
        "mycar = car.copy()\n",
        "print(mycar)"
      ],
      "metadata": {
        "colab": {
          "base_uri": "https://localhost:8080/"
        },
        "id": "6uGmVTuSgBzH",
        "outputId": "abae93a8-d599-4a0a-faa7-578d25d0ade1"
      },
      "execution_count": null,
      "outputs": [
        {
          "output_type": "stream",
          "name": "stdout",
          "text": [
            "{'brand': 'Ford', 'year': 1964}\n",
            "{'brand': 'Ford', 'model': 'Mustang'}\n",
            "{}\n",
            "brand\n",
            "model\n",
            "year\n",
            "{'brand': 'Ford', 'model': 'Mustang', 'year': 1964}\n"
          ]
        }
      ]
    },
    {
      "cell_type": "code",
      "source": [
        "#Nested dictionaries\n",
        "#A dictionary can contain dictionaries, this is called nested dictionaries.\n",
        "\n",
        "myfamily = {\n",
        "    \"child1\" : {\n",
        "        \"name\" : \"Jonah\",\n",
        "        \"year\" : 1995\n",
        "    },\n",
        "\n",
        "    \"child2\" : {\n",
        "        \"name\" : \"Mathew\",\n",
        "        \"year\" : 1996\n",
        "    },\n",
        "    \"child3\" : {\n",
        "        \"name\" : \"Millicent\",\n",
        "        \"year\" : 1998\n",
        "    },\n",
        "    \"child4\" : {\n",
        "        \"name\" : \"Amon\",\n",
        "        \"year\" : 2000\n",
        "    },\n",
        "    \"child5\" : {\n",
        "        \"name\" : \"Titus\",\n",
        "        \"year\" : 2009\n",
        "    }\n",
        "}\n",
        "\n",
        "#to access dict use this method\n",
        "\n",
        "print(myfamily[\"child4\"][\"name\"])\n"
      ],
      "metadata": {
        "colab": {
          "base_uri": "https://localhost:8080/"
        },
        "id": "Ce2CmkRXqdLT",
        "outputId": "db5504d0-3cbe-4857-a83f-9c93929697ca"
      },
      "execution_count": null,
      "outputs": [
        {
          "output_type": "stream",
          "name": "stdout",
          "text": [
            "Amon\n"
          ]
        }
      ]
    },
    {
      "cell_type": "markdown",
      "source": [
        "\n",
        "\n",
        "```\n",
        "Python has a set of built-in methods that you can use on dictionaries.\n",
        "\n",
        "Method\tDescription\n",
        "clear()\tRemoves all the elements from the dictionary\n",
        "copy()\tReturns a copy of the dictionary\n",
        "fromkeys()\tReturns a dictionary with the specified keys and value\n",
        "get()\tReturns the value of the specified key\n",
        "items()\tReturns a list containing a tuple for each key value pair\n",
        "keys()\tReturns a list containing the dictionary's keys\n",
        "pop()\tRemoves the element with the specified key\n",
        "popitem()\tRemoves the last inserted key-value pair\n",
        "setdefault()\tReturns the value of the specified key. If the key does not exist: insert the key, with the specified value\n",
        "update()\tUpdates the dictionary with the specified key-value pairs\n",
        "values()\tReturns a list of all the values in the dictionary\n",
        "\n",
        "```\n",
        "\n"
      ],
      "metadata": {
        "id": "n8bgTQbatFBN"
      }
    },
    {
      "cell_type": "code",
      "source": [
        "# if .... else in python\n",
        "\n",
        "# Equals: a == b\n",
        "# Not Equals: a != b\n",
        "# Less than: a < b\n",
        "# Less than or equal to: a <= b\n",
        "# Greater than: a > b\n",
        "# Greater than or equal to: a >= b\n",
        "\n",
        "#if\n",
        "a = 53\n",
        "b = 178\n",
        "\n",
        "if b > a:\n",
        "  print(\"b is greater than a\") # will raise an error if not indented\n",
        "\n",
        "#Indentation - Python relies on identation\n",
        "\n",
        "#elif\n",
        "\n",
        "a = 33\n",
        "b = 33\n",
        "if b > 33:\n",
        "  print(\"b is greater than a\")\n",
        "\n",
        "elif a == b:\n",
        "  print(\"a and b are equal\")\n",
        "\n",
        "#else\n",
        "\n",
        "a = 198\n",
        "b = 24\n",
        "\n",
        "if b > a:\n",
        "  print(\"b is greater that a\")\n",
        "\n",
        "elif a == b:\n",
        "  print(\"a and b are equal\")\n",
        "\n",
        "else:\n",
        "  print(\"a is greater than b\")\n",
        "\n",
        "# Lets test \"And\" keyword\n",
        "\n",
        "a = 198\n",
        "b = 24\n",
        "c = 630\n",
        "\n",
        "if a > b and c > a:\n",
        "  print(\"Both condions are True\")\n",
        "\n",
        "#The \"or\" keyword\n",
        "a = 198\n",
        "b = 24\n",
        "c = 630\n",
        "\n",
        "if a > b or a > c:\n",
        "  print(\"At least one of the condions are True\")\n",
        "\n",
        "# The not keyword\n",
        "\n",
        "a = 22\n",
        "b = 240\n",
        "\n",
        "if not a > b:\n",
        "  print(\"a is NOT greater than b\")\n",
        "\n",
        "#Nested if\n",
        "\n",
        "a = 41\n",
        "\n",
        "if a > 10:\n",
        "  print(\"above ten,\")\n",
        "  if a > 20:\n",
        "    print(\"and also above 20!\")\n",
        "\n",
        "  else:\n",
        "    print(\"but not above 20.\")\n",
        "\n",
        "#The pass statement\n",
        "a = 33\n",
        "b = 200\n",
        "\n",
        "if b > a:\n",
        "  pass"
      ],
      "metadata": {
        "colab": {
          "base_uri": "https://localhost:8080/"
        },
        "id": "JOHqNUHJtJ27",
        "outputId": "22c17477-411a-48d6-b79e-e0080dcccbd3"
      },
      "execution_count": null,
      "outputs": [
        {
          "output_type": "stream",
          "name": "stdout",
          "text": [
            "b is greater than a\n",
            "a and b are equal\n",
            "a is greater than b\n",
            "Both condions are True\n",
            "At least one of the condions are True\n",
            "a is NOT greater than b\n",
            "above ten,\n",
            "and also above 20!\n"
          ]
        }
      ]
    },
    {
      "cell_type": "code",
      "source": [
        "#Python while loops\n",
        "# using while and for loops\n",
        "\n",
        "#The while loop\n",
        "\n",
        "i = 1\n",
        "while i < 6:\n",
        "  print(i)\n",
        "  i = i + 1\n",
        "\n",
        "#The break statement\n",
        "\n",
        "i = 1\n",
        "while i < 6:\n",
        "  print(i)\n",
        "  if i == 3:\n",
        "    break\n",
        "  i = i + 1\n",
        "\n",
        "#continue statement\n",
        "\n",
        "\n",
        "# i = 1\n",
        "# while i < 6:\n",
        "#   print(i)\n",
        "#   if i == 3:\n",
        "#     continue\n",
        "#   i = i + 1\n",
        "\n",
        "#The else statement\n",
        "\n",
        "\n",
        "i = 1\n",
        "while i < 6:\n",
        "  print(i)\n",
        "  i = i + 1\n",
        "\n",
        "else:\n",
        "  print(\"i is no longer less than 6\")"
      ],
      "metadata": {
        "colab": {
          "base_uri": "https://localhost:8080/"
        },
        "id": "Yfy4VNI03ibE",
        "outputId": "d9d79906-b909-4229-ffd6-36d424e0531b"
      },
      "execution_count": null,
      "outputs": [
        {
          "output_type": "stream",
          "name": "stdout",
          "text": [
            "1\n",
            "2\n",
            "3\n",
            "4\n",
            "5\n",
            "1\n",
            "2\n",
            "3\n",
            "1\n",
            "2\n",
            "3\n",
            "4\n",
            "5\n",
            "i is no longer less than 6\n"
          ]
        }
      ]
    },
    {
      "cell_type": "code",
      "source": [
        "# Python for loops\n",
        "#A for loop is used for iterating over a sequence (that is either a list, a tuple, a dictionary, a set, or a string).\n",
        "fruits = [\"apple\", \"banana\", \"cherry\"]\n",
        "for x in fruits:\n",
        "  print(x)\n",
        "\n",
        "# The range() function\n",
        "\n",
        "for x in range (6):\n",
        "  print(x)\n",
        "else: #else in for loop\n",
        "  print(\"Finally finished!\")\n",
        "\n",
        "#Nested Loops\n",
        "adj = [\"red\", \"big\", \"tasty\"]\n",
        "fruits = [\"apple\", \"banana\", \"cherry\"]\n",
        "\n",
        "for x in adj:\n",
        "  for y in fruits:\n",
        "    print(x, y)"
      ],
      "metadata": {
        "colab": {
          "base_uri": "https://localhost:8080/"
        },
        "id": "r7-w1LMi5uix",
        "outputId": "c9a87c66-9edc-4fed-9982-bb37fd451edf"
      },
      "execution_count": null,
      "outputs": [
        {
          "output_type": "stream",
          "name": "stdout",
          "text": [
            "apple\n",
            "banana\n",
            "cherry\n",
            "0\n",
            "1\n",
            "2\n",
            "3\n",
            "4\n",
            "5\n",
            "Finally finished!\n",
            "red apple\n",
            "red banana\n",
            "red cherry\n",
            "big apple\n",
            "big banana\n",
            "big cherry\n",
            "tasty apple\n",
            "tasty banana\n",
            "tasty cherry\n"
          ]
        }
      ]
    },
    {
      "cell_type": "code",
      "source": [
        "#Python functions\n",
        "# Fuctions is a block of code which runs, you can pass data or parameters\n",
        "\n",
        "#Creating a function using \"def\" keyword\n",
        "\n",
        "def my_function():\n",
        "  print(\"Hello from a function\")\n",
        "\n",
        "my_function() #ensure you call the function at the end of the work\n",
        "\n",
        "#Arguments they are often shorted as \"args\"\n",
        "\n",
        "#information a can be passed into functions as arguments\n",
        "\n",
        "def my_function(fname):\n",
        "  print(fname, \"Chepchieng\")\n",
        "\n",
        "my_function(\"Jonah\")\n",
        "my_function(\"Amon\")\n",
        "my_function(\"Mathew\")\n",
        "\n",
        "#Number of arguments\n",
        "def my_function(fname, lname):\n",
        "  print(fname, \" \", lname)\n",
        "\n",
        "my_function(\"AMON\", \"CHEPCHIENG\")"
      ],
      "metadata": {
        "colab": {
          "base_uri": "https://localhost:8080/"
        },
        "id": "ua5mbP_Z7dmo",
        "outputId": "854bc389-6592-40b9-ad41-2f7739485bad"
      },
      "execution_count": null,
      "outputs": [
        {
          "output_type": "stream",
          "name": "stdout",
          "text": [
            "Hello from a function\n",
            "Jonah Chepchieng\n",
            "Amon Chepchieng\n",
            "Mathew Chepchieng\n",
            "AMON   CHEPCHIENG\n"
          ]
        }
      ]
    },
    {
      "cell_type": "code",
      "source": [
        "# Arbitrary arguments, *args\n",
        "# This is used when the number of arguments to be passed is not known. Function will receive tuple args\n",
        "\n",
        "def my_family(*kids):\n",
        "  print(\"The youngest child is\" , kids[2]) #the 2 is used to indicate the position\n",
        "\n",
        "my_family(\"Amon\", \"Millicent\", \"Titus\")\n",
        "\n",
        "#Keyword arguments often shorted as kwargs\n",
        "\n",
        "def my_family(child3, child2, child1):\n",
        "  print(\"The youngest child is\", child3)\n",
        "\n",
        "my_family(child1 = \"Millicent\", child2 = \"Amon\", child3 = \"Titus\")\n",
        "\n",
        "# Arbitrary keyword Arguments, **kwargs\n",
        "# We use it if we don't know the number of args to be passed, function will receive dict of args\n",
        "\n",
        "def my_name(**kid):\n",
        "  print(\"His last name is\", kid[\"lname\"])\n",
        "\n",
        "my_name(fname = \"Titus\", lname = \"Chepchieng\")"
      ],
      "metadata": {
        "colab": {
          "base_uri": "https://localhost:8080/"
        },
        "id": "ezuymsMBg8P6",
        "outputId": "5fab0b42-9724-46cc-f40e-13bf8274bd8f"
      },
      "execution_count": null,
      "outputs": [
        {
          "output_type": "stream",
          "name": "stdout",
          "text": [
            "The youngest child is Titus\n",
            "The youngest child is Titus\n",
            "His last name is Chepchieng\n"
          ]
        }
      ]
    },
    {
      "cell_type": "code",
      "source": [
        "#Default parameter value\n",
        "#If we call the function without an argument, it uses default value\n",
        "\n",
        "def my_function(country = \"Norway\"):\n",
        "  print(\"I am from\", country)\n",
        "\n",
        "my_function(\"Sweden\")\n",
        "my_function(\"India\")\n",
        "my_function()\n",
        "my_function(\"Kenya\")\n",
        "\n",
        "#Passing a list as an argument\n",
        "\n",
        "def my_function(food):\n",
        "  for x in food:\n",
        "    print(x)\n",
        "\n",
        "fruits = [\"apple\", \"banana\", \"cherry\"]\n",
        "\n",
        "my_function(fruits)\n",
        "\n",
        "#Positional-Only Arguments\n",
        "\n",
        "def my_function(x,/):\n",
        "  print(x)\n",
        "\n",
        "my_function(3)"
      ],
      "metadata": {
        "colab": {
          "base_uri": "https://localhost:8080/"
        },
        "id": "AolJ2hOYH6XB",
        "outputId": "378823b2-b277-4c17-e569-f8f1a9ba6efd"
      },
      "execution_count": null,
      "outputs": [
        {
          "output_type": "stream",
          "name": "stdout",
          "text": [
            "I am from Sweden\n",
            "I am from India\n",
            "I am from Norway\n",
            "I am from Kenya\n",
            "apple\n",
            "banana\n",
            "cherry\n",
            "3\n"
          ]
        }
      ]
    },
    {
      "cell_type": "code",
      "source": [
        "#Python Lambda\n",
        "#This is a small anonymous function\n",
        "\n",
        "x = lambda a : a + 10\n",
        "print(x(5))\n",
        "\n",
        "#Multiply argument a with argument b and return the result\n",
        "x = lambda a, b : a * b\n",
        "print(x(5,6))"
      ],
      "metadata": {
        "colab": {
          "base_uri": "https://localhost:8080/"
        },
        "id": "MOwx_yc3Q0Go",
        "outputId": "8dfa1aa4-7cd4-43f6-ef39-afdadd48f258"
      },
      "execution_count": null,
      "outputs": [
        {
          "output_type": "stream",
          "name": "stdout",
          "text": [
            "15\n",
            "30\n"
          ]
        }
      ]
    },
    {
      "cell_type": "code",
      "source": [
        "#Colab AI\n",
        "\n",
        "square = lambda x: x ** 2\n",
        "print(square(5))  # Output: 25"
      ],
      "metadata": {
        "colab": {
          "base_uri": "https://localhost:8080/"
        },
        "id": "uZmCQNT8vYC3",
        "outputId": "0bedb131-be54-4b46-9f71-aae2e1883d9e"
      },
      "execution_count": null,
      "outputs": [
        {
          "output_type": "stream",
          "name": "stdout",
          "text": [
            "25\n"
          ]
        }
      ]
    },
    {
      "source": [
        "# Python Arrays - For this lists are always reffered\n",
        "\n",
        "#create an array  - arrays are used to store multiple values in one single var:\n",
        "\n",
        "cars = [\"Ford\", \"Volvo\", \"BMW\"]\n",
        "\n",
        "cars.append(\"Honda\")\n",
        "\n",
        "print(cars)"
      ],
      "cell_type": "code",
      "metadata": {
        "colab": {
          "base_uri": "https://localhost:8080/"
        },
        "id": "C3VlYXAqvgkH",
        "outputId": "3fbdd3d9-37c2-47f2-8322-b4fda800f845"
      },
      "execution_count": null,
      "outputs": [
        {
          "output_type": "stream",
          "name": "stdout",
          "text": [
            "['Ford', 'Volvo', 'BMW', 'Honda']\n"
          ]
        }
      ]
    },
    {
      "cell_type": "code",
      "source": [
        "'''Python classes/Objects\n",
        "\n",
        "Python classes an object oriented programming language, class is a like an object constructor\n",
        "or a \"blueprint\" for creating objects\n",
        "\n",
        "Create a class, use the keyword class:'''\n",
        "\n",
        "# class MyClass:\n",
        "#   x = 5\n",
        "#   p1 = MyClass()\n",
        "# #  print(p1.x)\n",
        "\n",
        "\n"
      ],
      "metadata": {
        "colab": {
          "base_uri": "https://localhost:8080/",
          "height": 71
        },
        "id": "UXvk5afZxS1t",
        "outputId": "a5d06098-2a18-488c-8a54-9872829a3f81"
      },
      "execution_count": null,
      "outputs": [
        {
          "output_type": "execute_result",
          "data": {
            "text/plain": [
              "'Python classes/Objects\\n\\nPython classes an object oriented programming language, class is a like an object constructor\\nor a \"blueprint\" for creating objects\\n\\nCreate a class, use the keyword class:'"
            ],
            "application/vnd.google.colaboratory.intrinsic+json": {
              "type": "string"
            }
          },
          "metadata": {},
          "execution_count": 62
        }
      ]
    },
    {
      "cell_type": "code",
      "source": [
        "#The __init__() function\n",
        "\n",
        "class Person:\n",
        "\n",
        "  def __init__(self, name, age):\n",
        "    self.name = name\n",
        "    self.age = age\n",
        "    pass\n",
        "\n",
        "p1 = Person(\"John\", 36)\n",
        "\n",
        "print(p1.name)\n",
        "print(p1.age)\n",
        "\n",
        "#The __str__() Function\n",
        "\n",
        "class Person:\n",
        "  def __init__(self, name, age):\n",
        "    self.name = name\n",
        "    self.age = age\n",
        "\n",
        "\n",
        "  def __str__(self):\n",
        "    return f\"{self.name}({self.age})\"\n",
        "\n",
        "p1 = Person(\"AMON\", 36)\n",
        "\n",
        "print(p1)\n"
      ],
      "metadata": {
        "colab": {
          "base_uri": "https://localhost:8080/"
        },
        "id": "HcOuFzsVyutL",
        "outputId": "a6e0686f-530c-44b4-ad48-352ff94fcb21"
      },
      "execution_count": null,
      "outputs": [
        {
          "output_type": "stream",
          "name": "stdout",
          "text": [
            "John\n",
            "36\n",
            "AMON(36)\n"
          ]
        }
      ]
    },
    {
      "cell_type": "code",
      "source": [
        "#Inheritance\n",
        "\n",
        "class Person:\n",
        "  def __init__(self, fname, lname):\n",
        "    self.firstname = fname\n",
        "    self.lastname = lname\n",
        "\n",
        "\n",
        "  def printname(self):\n",
        "    print(self.firstname, self.lastname)\n",
        "\n",
        "\n",
        "x = Person(\"Amon\", \"Chepchieng\")\n",
        "x.printname()"
      ],
      "metadata": {
        "colab": {
          "base_uri": "https://localhost:8080/"
        },
        "id": "j_MjYDJy3dgP",
        "outputId": "31118320-33ca-418e-da18-b033dd76606f"
      },
      "execution_count": null,
      "outputs": [
        {
          "output_type": "stream",
          "name": "stdout",
          "text": [
            "Amon Chepchieng\n"
          ]
        }
      ]
    },
    {
      "cell_type": "code",
      "source": [
        "#Print and return\n",
        "\n",
        "'''print is just a function while return is just a keyword'''\n",
        "\n",
        "def func1(a,b):\n",
        "  c = a + b\n",
        "  print(c)\n",
        "\n",
        "func1(3,4)\n",
        "\n",
        "def func1(a,b):\n",
        "  c = a + b\n",
        "  return c\n",
        "\n",
        "output = func1(3,4)\n",
        "print(output)"
      ],
      "metadata": {
        "colab": {
          "base_uri": "https://localhost:8080/"
        },
        "id": "s-zwhJdN4k89",
        "outputId": "3235bfa0-5b99-4a17-b843-ee9e8d016ba1"
      },
      "execution_count": null,
      "outputs": [
        {
          "output_type": "stream",
          "name": "stdout",
          "text": [
            "7\n",
            "7\n"
          ]
        }
      ]
    },
    {
      "cell_type": "code",
      "source": [
        "#Python iterators\n",
        "'''An iterator is an object that contains a countable number of values'''\n",
        "\n",
        "tuple = (\"apple\", \"banana\", \"cherry\")\n",
        "\n",
        "myit = iter(tuple)\n",
        "\n",
        "print(next(myit))\n",
        "print(next(myit))\n",
        "print(next(myit))\n",
        "\n",
        "#Srings are iterable also:\n",
        "\n",
        "mystr = \"banana\"\n",
        "myit = iter(mystr)\n",
        "\n",
        "print(next(myit))\n",
        "print(next(myit))\n",
        "print(next(myit))\n",
        "print(next(myit))\n",
        "print(next(myit))\n",
        "print(next(myit))"
      ],
      "metadata": {
        "colab": {
          "base_uri": "https://localhost:8080/"
        },
        "id": "9vzdqnR_C6oM",
        "outputId": "d5193ff6-7716-4edb-a4bf-a48aefc1cfa1"
      },
      "execution_count": null,
      "outputs": [
        {
          "output_type": "stream",
          "name": "stdout",
          "text": [
            "apple\n",
            "banana\n",
            "cherry\n",
            "b\n",
            "a\n",
            "n\n",
            "a\n",
            "n\n",
            "a\n"
          ]
        }
      ]
    },
    {
      "cell_type": "code",
      "source": [
        "#Create an Iterator\n",
        "'''To create an object/class as an iterator you have to\n",
        "implement the methods __iter__() and __next__() to your object.\n",
        "all classes have a function called __init__(),\n",
        "which allows you to do some initializing when the object\n",
        " is being created.'''\n",
        "\n",
        "class MyNumbers:\n",
        "  def __iter__(self):\n",
        "    self.a = 1\n",
        "    return self\n",
        "\n",
        "  def __next__(self):\n",
        "    x = self.a\n",
        "    self.a += 1\n",
        "    return x\n",
        "\n",
        "myclass = MyNumbers()\n",
        "myiter = iter(myclass)\n",
        "\n",
        "print(next(myiter))\n",
        "print(next(myiter))\n",
        "print(next(myiter))\n",
        "print(next(myiter))\n",
        "print(next(myiter))"
      ],
      "metadata": {
        "colab": {
          "base_uri": "https://localhost:8080/"
        },
        "id": "LmHcKgLFE0O2",
        "outputId": "e0234ddb-5716-47a7-ae79-4fdfda9820fc"
      },
      "execution_count": null,
      "outputs": [
        {
          "output_type": "stream",
          "name": "stdout",
          "text": [
            "1\n",
            "2\n",
            "3\n",
            "4\n",
            "5\n"
          ]
        }
      ]
    },
    {
      "cell_type": "code",
      "source": [
        "#Polymorphism\n",
        "'''The word \"polymorphism\" means \"many forms\",\n",
        "and in programming it refers to\n",
        "methods/functions/operators with the same name\n",
        "that can be executed on many objects or classes.'''\n",
        "\n",
        "#string\n",
        "x = \"Hello World!\"\n",
        "\n",
        "print(len(x))\n",
        "\n",
        "#Tuple\n",
        "mytuple = (\"apple\", \"banana\", \"cherry\")\n",
        "\n",
        "print(len(mytuple))\n",
        "\n",
        "#Dictionary\n",
        "\n",
        "dict = {\n",
        "    \"brand\" :\"Ford\",\n",
        "    \"model\" :\"Mustang\",\n",
        "    \"year\" : 1964\n",
        "}\n",
        "\n",
        "print(len(dict))"
      ],
      "metadata": {
        "colab": {
          "base_uri": "https://localhost:8080/"
        },
        "id": "QdjK89NhG-oV",
        "outputId": "0636a6e2-d125-4b51-befb-2911ab391a23"
      },
      "execution_count": null,
      "outputs": [
        {
          "output_type": "stream",
          "name": "stdout",
          "text": [
            "12\n",
            "3\n",
            "3\n"
          ]
        }
      ]
    },
    {
      "cell_type": "code",
      "source": [
        "#Class polymorphism\n",
        "\n",
        "class Car:\n",
        "  def __init__(self, brand, model):\n",
        "    self.brand = brand\n",
        "    self.model = model\n",
        "\n",
        "  def move(self):\n",
        "    print(\"Drive!\")\n",
        "\n",
        "class Boat:\n",
        "  def __init__(self, brand, model):\n",
        "    self.brand = brand\n",
        "    self.model = model\n",
        "\n",
        "  def move(self):\n",
        "    print(\"Sail!\")\n",
        "\n",
        "class Plane:\n",
        "  def __init__(self, brand, model):\n",
        "    self.brand = brand\n",
        "    self.model = model\n",
        "\n",
        "  def move(self):\n",
        "    print(\"Fly!\")\n",
        "\n",
        "car1 = Car(\"Ford\", \"Mustang\")\n",
        "boat1 = Boat(\"Ibiza\", \"Touring 20\")\n",
        "plane1 = Plane(\"Boeing\", \"747\")\n",
        "\n",
        "for x in (car1, boat1, plane1):\n",
        "  x.move()"
      ],
      "metadata": {
        "colab": {
          "base_uri": "https://localhost:8080/"
        },
        "id": "W3jVxQagL72S",
        "outputId": "653485d0-5193-4b16-cf18-a041f602c1cc"
      },
      "execution_count": null,
      "outputs": [
        {
          "output_type": "stream",
          "name": "stdout",
          "text": [
            "Drive!\n",
            "Sail!\n",
            "Fly!\n"
          ]
        }
      ]
    },
    {
      "cell_type": "code",
      "source": [
        "#Python scope\n",
        "#A variable is only available from inside the region it is created.\n",
        "\n",
        "#Local scope\n",
        "\n",
        "def myfunc():\n",
        "  x = 300\n",
        "  print(x)\n",
        "\n",
        "myfunc()\n",
        "\n",
        "#Local variable ---\n",
        "\n",
        "def myfunc():\n",
        "  x = 300\n",
        "  def myinnerfunc():\n",
        "    print(x)\n",
        "    myinnerfunc()\n",
        "\n",
        "myfunc()\n",
        "\n",
        "#Global Scope -> It's available within any scope, global and local\n",
        "\n",
        "x = 250\n",
        "\n",
        "def myfunc():\n",
        "  print(x)\n",
        "\n",
        "myfunc()\n",
        "\n",
        "print(x)\n",
        "\n",
        "#Global Keyword\n",
        "def myfunc():\n",
        "  global x\n",
        "  x = 424\n",
        "\n",
        "myfunc()\n",
        "\n",
        "print(x)"
      ],
      "metadata": {
        "colab": {
          "base_uri": "https://localhost:8080/"
        },
        "id": "ryGRgxhEO5PB",
        "outputId": "eede31a7-12cd-4650-97a4-a61795a84714"
      },
      "execution_count": null,
      "outputs": [
        {
          "output_type": "stream",
          "name": "stdout",
          "text": [
            "300\n",
            "250\n",
            "250\n",
            "424\n"
          ]
        }
      ]
    },
    {
      "cell_type": "code",
      "source": [
        "#Python Modules --> a file containig set of functions you want in your app\n",
        "\n",
        "#Create a Module ---> have a file extension .py: it can  be used to import\n",
        "\n",
        "import platform\n",
        "\n",
        "x = platform.system()\n",
        "print(x)\n",
        "\n",
        "a = dir(platform)\n",
        "print(a)"
      ],
      "metadata": {
        "colab": {
          "base_uri": "https://localhost:8080/"
        },
        "id": "RigIRqEgT3KR",
        "outputId": "c57bff3d-9e8c-4a32-bda5-3c747cd3c806"
      },
      "execution_count": null,
      "outputs": [
        {
          "output_type": "stream",
          "name": "stdout",
          "text": [
            "Linux\n",
            "['_Processor', '_WIN32_CLIENT_RELEASES', '_WIN32_SERVER_RELEASES', '__builtins__', '__cached__', '__copyright__', '__doc__', '__file__', '__loader__', '__name__', '__package__', '__spec__', '__version__', '_comparable_version', '_component_re', '_default_architecture', '_follow_symlinks', '_get_machine_win32', '_ironpython26_sys_version_parser', '_ironpython_sys_version_parser', '_java_getprop', '_libc_search', '_mac_ver_xml', '_node', '_norm_version', '_os_release_cache', '_os_release_candidates', '_os_release_line', '_os_release_unescape', '_parse_os_release', '_platform', '_platform_cache', '_pypy_sys_version_parser', '_sys_version', '_sys_version_cache', '_sys_version_parser', '_syscmd_file', '_syscmd_ver', '_uname_cache', '_unknown_as_blank', '_ver_output', '_ver_stages', 'architecture', 'collections', 'freedesktop_os_release', 'functools', 'itertools', 'java_ver', 'libc_ver', 'mac_ver', 'machine', 'node', 'os', 'platform', 'processor', 'python_branch', 'python_build', 'python_compiler', 'python_implementation', 'python_revision', 'python_version', 'python_version_tuple', 're', 'release', 'subprocess', 'sys', 'system', 'system_alias', 'uname', 'uname_result', 'version', 'win32_edition', 'win32_is_iot', 'win32_ver']\n"
          ]
        }
      ]
    },
    {
      "cell_type": "code",
      "source": [
        "#Python Datetime\n",
        "#Date in python is not a date type of its own, but we import a module\n",
        "\n",
        "import datetime\n",
        "\n",
        "a = datetime.datetime.now()\n",
        "print(a)"
      ],
      "metadata": {
        "colab": {
          "base_uri": "https://localhost:8080/"
        },
        "id": "9BDDrlFtVWUK",
        "outputId": "c436846e-bf88-4011-e06b-89fe4e9dc172"
      },
      "execution_count": null,
      "outputs": [
        {
          "output_type": "stream",
          "name": "stdout",
          "text": [
            "2024-02-11 07:45:14.042704\n"
          ]
        }
      ]
    },
    {
      "cell_type": "code",
      "source": [
        "#Python math module\n",
        "\n",
        "x = min(2, 7, 27)\n",
        "y = max(2, 7, 27)\n",
        "\n",
        "print(x)\n",
        "print(y)\n",
        "\n",
        "import math\n",
        "\n",
        "a = math.sqrt(64)\n",
        "print(a)\n",
        "\n",
        "b = math.pi\n",
        "print(b)"
      ],
      "metadata": {
        "colab": {
          "base_uri": "https://localhost:8080/"
        },
        "id": "C95n3qNoWPE0",
        "outputId": "d3a6436d-7354-4633-a82a-3d91575bcf68"
      },
      "execution_count": null,
      "outputs": [
        {
          "output_type": "stream",
          "name": "stdout",
          "text": [
            "2\n",
            "27\n",
            "8.0\n",
            "3.141592653589793\n"
          ]
        }
      ]
    },
    {
      "cell_type": "code",
      "source": [
        "#Python JSON\n",
        "'''JSON is a syntax for storing and exchanging data.\n",
        "JSON is text, written with JavaScript object notation.'''\n",
        "\n",
        "#Convert from JSON to Python ---> json.loads() method\n",
        "import json\n",
        "\n",
        "c = '{ \"name\": \"John\", \"age\":30, \"city\": \"New York\" }'\n",
        "\n",
        "y = json.loads(c)\n",
        "\n",
        "print(y[\"age\"])\n",
        "\n"
      ],
      "metadata": {
        "colab": {
          "base_uri": "https://localhost:8080/"
        },
        "id": "aMJjEqLwXesQ",
        "outputId": "fa44fa8e-d8dd-4816-957d-1cb3c53db572"
      },
      "execution_count": null,
      "outputs": [
        {
          "output_type": "stream",
          "name": "stdout",
          "text": [
            "30\n"
          ]
        }
      ]
    },
    {
      "cell_type": "code",
      "source": [
        "#Python RegEx\n",
        "'''A RegEx, or Regular Expression,\n",
        "is a sequence of characters that forms a search pattern.\n",
        "RegEx can be used to check if a string contains the specified\n",
        "search pattern.'''\n",
        "\n",
        "import re\n",
        "\n",
        "txt = \"The rain in Spain\"\n",
        "x = re.search(\"^The.*Spain$\", txt)\n",
        "\n"
      ],
      "metadata": {
        "id": "qSGC8dN0cEkG"
      },
      "execution_count": null,
      "outputs": []
    },
    {
      "cell_type": "code",
      "source": [
        "#Python PIP --> Python packages, or modules\n",
        "\n",
        "#Package --> contains all the files you neeed in a module\n",
        "\n",
        "#Check pip module (pip --version)"
      ],
      "metadata": {
        "id": "Um9Jua6Ndust"
      },
      "execution_count": null,
      "outputs": []
    },
    {
      "cell_type": "markdown",
      "source": [
        "\n",
        "\n",
        "```\n",
        "The try block lets you test a block of code for errors.\n",
        "\n",
        "The except block lets you handle the error.\n",
        "\n",
        "The else block lets you execute code when there is no error.\n",
        "\n",
        "The finally block lets you execute code, regardless of the result of the try- and except blocks.\n",
        "```\n",
        "\n"
      ],
      "metadata": {
        "id": "DwSkfaBpfAmy"
      }
    },
    {
      "cell_type": "code",
      "source": [
        "#Try ...Except\n",
        "\n",
        "#Exception Handling\n",
        "\n",
        "try:\n",
        "  print(mey) #try will generate exception since mey is not defined\n",
        "except:\n",
        "  print(\"An exception occurred\")"
      ],
      "metadata": {
        "colab": {
          "base_uri": "https://localhost:8080/"
        },
        "id": "LSwxMLoseemw",
        "outputId": "ebc07a46-c496-405a-afa1-3c960ab325ad"
      },
      "execution_count": null,
      "outputs": [
        {
          "output_type": "stream",
          "name": "stdout",
          "text": [
            "An exception occurred\n"
          ]
        }
      ]
    },
    {
      "cell_type": "code",
      "source": [
        "#Many Exceptions\n",
        "\n",
        "try:\n",
        "  print(mey)\n",
        "except NameError:\n",
        "  print(\"Variable mey is not defined\")\n",
        "except:\n",
        "  print(\"Something else went wrong\")\n",
        "\n",
        "#Else\n",
        "'''You can use the else keyword\n",
        "to define a block of code to be executed if no errors were raised:'''\n",
        "\n",
        "try:\n",
        "  print(\"Hello\")\n",
        "except:\n",
        "  print(\"Something went wrong\")\n",
        "else:\n",
        "  print(\"Nothing went wrong\")\n",
        "\n",
        "#Finally\n",
        "\n",
        "try:\n",
        "  print(mey)\n",
        "except:\n",
        "  print(\"Something went wrong\")\n",
        "finally:\n",
        "  print(\"The 'try except' is finished\")"
      ],
      "metadata": {
        "colab": {
          "base_uri": "https://localhost:8080/"
        },
        "id": "x7F4_WY5gCVE",
        "outputId": "5076a1af-7a19-46f7-ca7b-e61b5a5d40ae"
      },
      "execution_count": null,
      "outputs": [
        {
          "output_type": "stream",
          "name": "stdout",
          "text": [
            "Variable mey is not defined\n",
            "Hello\n",
            "Nothing went wrong\n",
            "Something went wrong\n",
            "The 'try except' is finished\n"
          ]
        }
      ]
    },
    {
      "cell_type": "markdown",
      "source": [
        "**Example**\n",
        "\n",
        "\n",
        "```\n",
        "Raise an error and stop the program if x is lower than 0:\n",
        "```\n",
        "\n"
      ],
      "metadata": {
        "id": "d515pr02iPxy"
      }
    },
    {
      "cell_type": "code",
      "source": [
        "# r = -1\n",
        "\n",
        "# if r < 0:\n",
        "#   raise Exception(\"Sorry, no numbers below zero\")"
      ],
      "metadata": {
        "id": "KgYDry2siMfK"
      },
      "execution_count": null,
      "outputs": []
    },
    {
      "cell_type": "code",
      "source": [
        "#Python User Input\n",
        "\n",
        "username = input(\"Enter the username: \")\n",
        "print(\"Username is:\", username)"
      ],
      "metadata": {
        "colab": {
          "base_uri": "https://localhost:8080/"
        },
        "id": "mC6GPtLvmrDc",
        "outputId": "d129e56c-e923-4e37-eed4-792eb4bbd3d2"
      },
      "execution_count": null,
      "outputs": [
        {
          "output_type": "stream",
          "name": "stdout",
          "text": [
            "Enter the username: Chumbacash\n",
            "Username is: Chumbacash\n"
          ]
        }
      ]
    },
    {
      "cell_type": "code",
      "source": [
        "#MATPLOTLIB\n",
        "\n",
        "import matplotlib #importing the matplotlib module\n",
        "\n",
        "print(matplotlib.__version__) #checking the version of matplotlib"
      ],
      "metadata": {
        "colab": {
          "base_uri": "https://localhost:8080/"
        },
        "id": "TweIoy61n7ko",
        "outputId": "24caf8f6-8469-4b74-87e3-ff959ccbfba4"
      },
      "execution_count": null,
      "outputs": [
        {
          "output_type": "stream",
          "name": "stdout",
          "text": [
            "3.7.1\n"
          ]
        }
      ]
    },
    {
      "cell_type": "code",
      "source": [
        "#Matplotlib Pyplot\n",
        "\n",
        "'''Most of the matplotlib utilities lies under the \"pyplot\" submodule,\n",
        "and are usually imported under the plt'''\n",
        "\n",
        "import matplotlib.pyplot as plt\n",
        "import numpy as np"
      ],
      "metadata": {
        "id": "6s02mDWG56fC"
      },
      "execution_count": null,
      "outputs": []
    },
    {
      "cell_type": "markdown",
      "source": [
        "**NumPy Tutorial**\n",
        "\n",
        "\n",
        "*   Numpy is a python library\n",
        "*   Numpy is used for working with arrays.\n",
        "*   Numpy is short of \"Numerical Python\".\n",
        "\n",
        "\n",
        "\n"
      ],
      "metadata": {
        "id": "Uxzr79yr6sPf"
      }
    },
    {
      "cell_type": "markdown",
      "source": [
        "\n",
        "\n",
        "```\n",
        "NumPy aims to provide an\n",
        "array object that is up to 50x\n",
        "faster than traditional Python lists\n",
        "```\n",
        "\n"
      ],
      "metadata": {
        "id": "MbRoMY1d9zL4"
      }
    },
    {
      "cell_type": "code",
      "source": [
        "#Numpy introduction\n",
        "\n",
        "import numpy # also you can import as np then use np down\n",
        "\n",
        "arr = numpy.array([1, 2, 3, 4, 5])\n",
        "\n",
        "print(arr)\n",
        "\n",
        "import numpy as np\n",
        "\n",
        "print(np.__version__)"
      ],
      "metadata": {
        "colab": {
          "base_uri": "https://localhost:8080/"
        },
        "id": "ijG3ruXm62vk",
        "outputId": "91d704c0-7035-4142-f916-bb8ab4f7e081"
      },
      "execution_count": null,
      "outputs": [
        {
          "output_type": "stream",
          "name": "stdout",
          "text": [
            "[1 2 3 4 5]\n",
            "1.23.5\n"
          ]
        }
      ]
    },
    {
      "cell_type": "code",
      "source": [
        "#Creating array using Numpy\n",
        "\n",
        "#The array object in Numpy is called \"ndarray\"\n",
        "\n",
        "import numpy as np\n",
        "\n",
        "arr = np.array([1, 2, 3, 4, 5])\n",
        "\n",
        "print(arr)\n",
        "\n",
        "print(type(arr))\n",
        "\n",
        "#Dimensions in Arrays\n",
        "''' A dimension in arrays is one level of array depth (nested arrays)\n",
        "nested array are arrays that have arrays as their elements'''\n",
        "\n",
        "#0-D arrays\n",
        "'''0 -D arrays, or scalars, are the elements in an array.\n",
        "each value in an array is a 0-D array. '''\n",
        "\n",
        "\n",
        "#Example --> Create a 0-D array with value 42\n",
        "\n",
        "import numpy as np\n",
        "\n",
        "arr = np.array(42)\n",
        "\n",
        "print(arr)\n",
        "\n",
        "#1-D arrays\n",
        "''' An array that has 0-d arrays as its elements is called uni-dimensional\n",
        "or 1-D'''\n",
        "\n",
        "#Example --> Create a 1-D array containing the values 1,2,3,4,5:\n",
        "\n",
        "import numpy as np\n",
        "\n",
        "arr = np.array([1, 2, 3, 4, 5])\n",
        "\n",
        "print(arr)\n",
        "\n",
        "#2-D arrays\n",
        "'''An array that has 1-D arrays as its elements is called a 2-D array.'''\n",
        "\n",
        "#Example -->Create a 2-D array containing two arrays with the values 1,2,3 and 4,5,6:\n",
        "\n",
        "import numpy as np\n",
        "\n",
        "arr = np.array([[1, 2, 3], [4, 5, 6]])\n",
        "\n",
        "print(arr)\n",
        "\n",
        "#3-D arrays\n",
        "'''An array that has 2-D arrays (matrices) as its elements is called 3-D array.'''\n",
        "\n",
        "#Example --> Create a 3-D array with two 2-D arrays, both containing two arrays with the values 1,2,3 and 4,5,6:\n",
        "\n",
        "import numpy as np\n",
        "\n",
        "arr = np.array([[1, 2, 3], [4, 5, 6], [1, 2, 3], [4, 5, 6]])\n",
        "\n",
        "print(arr)"
      ],
      "metadata": {
        "colab": {
          "base_uri": "https://localhost:8080/"
        },
        "id": "nhDXToUN-49q",
        "outputId": "4b548f57-e0c0-4cd5-ddba-ab612e6f991f"
      },
      "execution_count": null,
      "outputs": [
        {
          "output_type": "stream",
          "name": "stdout",
          "text": [
            "[1 2 3 4 5]\n",
            "<class 'numpy.ndarray'>\n",
            "42\n",
            "[1 2 3 4 5]\n",
            "[[1 2 3]\n",
            " [4 5 6]]\n",
            "[[1 2 3]\n",
            " [4 5 6]\n",
            " [1 2 3]\n",
            " [4 5 6]]\n"
          ]
        }
      ]
    },
    {
      "cell_type": "code",
      "source": [
        "#Check Number of dimensions\n",
        "''' Numpy arrays provide the ndim attribute that returns an interger that\n",
        "tells us how many dimensions the array have'''\n",
        "\n",
        "#Example --> Check how many dimensions the arrays have:\n",
        "\n",
        "import numpy as np\n",
        "\n",
        "a = np.array(42)\n",
        "b = np.array([1, 2, 3, 4, 5])\n",
        "c = np.array([[1, 2, 3], [4, 5, 6]])\n",
        "d = np.array([[[1, 2, 3], [4, 5, 6]], [[1, 2, 3], [4, 5, 6]]])\n",
        "\n",
        "print(a.ndim)\n",
        "print(b.ndim)\n",
        "print(c.ndim)\n",
        "print(d.ndim)"
      ],
      "metadata": {
        "colab": {
          "base_uri": "https://localhost:8080/"
        },
        "id": "OrnqTxuEKybG",
        "outputId": "113629d5-0965-4de0-9f59-050808a89840"
      },
      "execution_count": null,
      "outputs": [
        {
          "output_type": "stream",
          "name": "stdout",
          "text": [
            "0\n",
            "1\n",
            "2\n",
            "3\n"
          ]
        }
      ]
    },
    {
      "cell_type": "code",
      "source": [
        "#Higher Dimensional Arrays\n",
        "''' An array can have any number of dimensions'''"
      ],
      "metadata": {
        "colab": {
          "base_uri": "https://localhost:8080/",
          "height": 36
        },
        "id": "uIH3aPkeN2Ap",
        "outputId": "1861fe19-a7df-457c-9a4f-299f6d173173"
      },
      "execution_count": null,
      "outputs": [
        {
          "output_type": "execute_result",
          "data": {
            "text/plain": [
              "' An array can have any number of dimensions'"
            ],
            "application/vnd.google.colaboratory.intrinsic+json": {
              "type": "string"
            }
          },
          "metadata": {},
          "execution_count": 86
        }
      ]
    },
    {
      "cell_type": "markdown",
      "source": [
        "**Example**\n",
        "\n",
        "\n",
        "```\n",
        "Create an array with 5 dimensions and verify\n",
        "that it has 5 dimensions:\n",
        "```\n",
        "\n"
      ],
      "metadata": {
        "id": "DRZcdaSHNbUN"
      }
    },
    {
      "cell_type": "code",
      "source": [
        "import numpy as np\n",
        "\n",
        "arr = np.array([1, 2, 3, 4], ndmin = 5)\n",
        "\n",
        "print(arr)\n",
        "print(\"Number of dimensions: \", arr.ndim)"
      ],
      "metadata": {
        "colab": {
          "base_uri": "https://localhost:8080/"
        },
        "id": "wXHJmn4qN0M6",
        "outputId": "9277cc69-80ce-4e6d-b508-1480e28da111"
      },
      "execution_count": null,
      "outputs": [
        {
          "output_type": "stream",
          "name": "stdout",
          "text": [
            "[[[[[1 2 3 4]]]]]\n",
            "Number of dimensions:  5\n"
          ]
        }
      ]
    },
    {
      "cell_type": "code",
      "source": [
        "# Access Array Elements\n",
        "'''Array indexing is the same as accessing an array element'''\n",
        "\n",
        "#Example --> Get the first element fromfrom the following array:\n",
        "\n",
        "import numpy as np\n",
        "\n",
        "arr = np.array([1, 2, 3, 4])\n",
        "\n",
        "print(arr[0])\n",
        "\n",
        "print(arr[2] + arr[3])\n",
        "\n",
        "#Access 2-D Arrays\n",
        "\n",
        "#Example --> Access the element on the row, second column:\n",
        "\n",
        "import numpy as np\n",
        "\n",
        "arr = np.array([[1, 2, 3, 4, 5], [6, 7, 8, 9, 10]])\n",
        "\n",
        "print(\"2nd element on 1st row: \", arr[0, 1])\n",
        "\n",
        "print(\"2nd row, 5th element: \", arr[1, 4])\n",
        "\n",
        "#Access 3-D Arrays\n",
        "\n",
        "#Example --> Access the third element of the second array of the first array\n",
        "import numpy as np\n",
        "\n",
        "arr = np.array([[[1, 2, 3],[4, 5, 6]], [[7, 8, 9], [10, 11, 12]]])"
      ],
      "metadata": {
        "colab": {
          "base_uri": "https://localhost:8080/"
        },
        "id": "Dc6f_GzCPcaG",
        "outputId": "ad711b3b-e326-4744-fb4f-8bfce8f28c19"
      },
      "execution_count": null,
      "outputs": [
        {
          "output_type": "stream",
          "name": "stdout",
          "text": [
            "1\n",
            "7\n",
            "2nd element on 1st row:  2\n",
            "2nd row, 5th element:  10\n"
          ]
        }
      ]
    },
    {
      "cell_type": "code",
      "source": [
        "#Numpy Array Slicing\n",
        "\n",
        "'''slicing arrays'''\n",
        "\n",
        "import numpy as np\n",
        "\n",
        "arr = np.array([1, 2, 3, 4, 5, 6, 7])\n",
        "\n",
        "print(arr[1:5])\n",
        "\n",
        "#step\n",
        "\n",
        "print(arr[1:5:2])\n",
        "print(arr[::2])"
      ],
      "metadata": {
        "colab": {
          "base_uri": "https://localhost:8080/"
        },
        "id": "q2_CyU-7rAP3",
        "outputId": "a4e636c4-c008-4b87-d30d-3848070a2960"
      },
      "execution_count": null,
      "outputs": [
        {
          "output_type": "stream",
          "name": "stdout",
          "text": [
            "[2 3 4 5]\n",
            "[2 4]\n",
            "[1 3 5 7]\n"
          ]
        }
      ]
    },
    {
      "cell_type": "code",
      "source": [
        "#Numpy Data Types\n",
        "\n",
        "#Data Types in Python\n",
        "'''These are strings, interger, float, boolean, complex'''\n",
        "\n",
        "#ints\n",
        "\n",
        "import numpy as np\n",
        "arr = np.array([1, 2, 3, 4])\n",
        "print(arr.dtype)\n",
        "\n",
        "#strings\n",
        "arr = np.array(['apple', 'banana', 'cherry'])\n",
        "print(arr.dtype)\n",
        "\n",
        "#Example --> Create an array with data type 4 bytes interger:\n",
        "\n",
        "import numpy as np\n",
        "\n",
        "arr = np.array([1, 2, 3, 4], dtype = 'i4')\n",
        "\n",
        "print(arr)\n",
        "print(arr.dtype)\n",
        "\n"
      ],
      "metadata": {
        "colab": {
          "base_uri": "https://localhost:8080/"
        },
        "id": "qeP-EhRhzDCJ",
        "outputId": "ab4ba532-093a-4ada-a39e-7da783527d5f"
      },
      "execution_count": null,
      "outputs": [
        {
          "output_type": "stream",
          "name": "stdout",
          "text": [
            "int64\n",
            "<U6\n",
            "[1 2 3 4]\n",
            "int32\n"
          ]
        }
      ]
    },
    {
      "cell_type": "code",
      "source": [
        "#Array Shape\n",
        "'''The shape of an array is the number of elements in each dimension.'''\n",
        "\n",
        "#Example --> Print the shape of a 2-D array\n",
        "import numpy as np\n",
        "\n",
        "arr = np.array([[1, 2, 3, 4], [5, 6, 7, 8]])\n",
        "\n",
        "print(arr.shape)\n",
        "\n",
        "#Example\n",
        "'''Create an array with 5 dimensions using ndmin using a vector with\n",
        "values 1,2,3,4 and verify that last dimension has value 4:'''\n",
        "\n",
        "arr = np.array([1, 2, 3, 4], ndmin=5)\n",
        "\n",
        "print(arr)\n",
        "print('shape of array: ', arr.shape)"
      ],
      "metadata": {
        "colab": {
          "base_uri": "https://localhost:8080/"
        },
        "id": "B0eRGn4GJwKn",
        "outputId": "117ae5d1-3d5e-4240-fe99-329decb58e80"
      },
      "execution_count": null,
      "outputs": [
        {
          "output_type": "stream",
          "name": "stdout",
          "text": [
            "(2, 4)\n",
            "[[[[[1 2 3 4]]]]]\n",
            "shape of array:  (1, 1, 1, 1, 4)\n"
          ]
        }
      ]
    },
    {
      "cell_type": "code",
      "source": [
        "#Array Reshaping --> Changing the shape of an array\n",
        "\n",
        "#Reshape from 1-D to 2-D\n",
        "'''Convert the following 1-D array with 12 elements into a 2-D array.\n",
        "The outermost dimension will have 4 arrays, each with 3 elements:'''\n",
        "\n",
        "import numpy as np\n",
        "\n",
        "arr = np.array([1, 2, 3, 4, 5, 6, 7, 8, 9, 10, 11, 12])\n",
        "\n",
        "newarr = arr.reshape(4, 3)\n",
        "\n",
        "print(newarr)\n",
        "\n",
        "#Reshape from 1-D to 3-D\n",
        "\n",
        "#Example\n",
        "'''Convert the following 1-D array with 12 elements into a 3-D array.The\n",
        "outermost dimension will have 2 arrays that contains 3 arrays,\n",
        "each with 2 elements:'''\n",
        "\n",
        "import numpy as np\n",
        "\n",
        "arr = np.array([1, 2, 3, 4, 5, 6, 7, 8, 9, 10, 11, 12])\n",
        "\n",
        "newarr = arr.reshape(2, 3, 2)\n",
        "\n",
        "print(newarr)\n",
        "\n"
      ],
      "metadata": {
        "colab": {
          "base_uri": "https://localhost:8080/"
        },
        "id": "V0Di_DDgLzgN",
        "outputId": "6f384339-b0a1-4163-d794-86b75f200479"
      },
      "execution_count": null,
      "outputs": [
        {
          "output_type": "stream",
          "name": "stdout",
          "text": [
            "[[ 1  2  3]\n",
            " [ 4  5  6]\n",
            " [ 7  8  9]\n",
            " [10 11 12]]\n",
            "[[[ 1  2]\n",
            "  [ 3  4]\n",
            "  [ 5  6]]\n",
            "\n",
            " [[ 7  8]\n",
            "  [ 9 10]\n",
            "  [11 12]]]\n"
          ]
        }
      ]
    },
    {
      "cell_type": "code",
      "source": [
        "#Numpy arrays iteration --> means going through elements one by one\n",
        "\n",
        "#Iterate on the elements of the following 1-D array:\n",
        "import numpy as np\n",
        "\n",
        "arr = np.array([1, 2, 3])\n",
        "\n",
        "for x in arr:\n",
        "  print(x)\n",
        "\n",
        "#Iterate on the elements of the following 2-D array:\n",
        "\n",
        "arr = np.array([[1, 2, 3], [4, 5, 6]])\n",
        "\n",
        "for x in arr:\n",
        "  print(x)\n",
        "\n",
        "for x in arr: #Iterate on the each scalar element of the 2-D array:\n",
        "  for y in x:\n",
        "    print(y)\n",
        "\n",
        "#Iterating 3-D Arrays\n",
        "\n",
        "arr = np.array([[[1, 2, 3], [4, 5, 6]], [[7, 8, 9], [10, 11, 12]]])\n",
        "\n",
        "for x in arr:\n",
        "  print(x)\n",
        "\n",
        "for x in arr:\n",
        "  for y in x:\n",
        "    for z in y: #Iterate on each scaar element of the 3-D arrays:\n",
        "      print(z)"
      ],
      "metadata": {
        "colab": {
          "base_uri": "https://localhost:8080/"
        },
        "id": "4IhzS33mQB3K",
        "outputId": "24d8ad4b-3df7-4c85-d762-11de18f0198b"
      },
      "execution_count": null,
      "outputs": [
        {
          "output_type": "stream",
          "name": "stdout",
          "text": [
            "1\n",
            "2\n",
            "3\n",
            "[1 2 3]\n",
            "[4 5 6]\n",
            "1\n",
            "2\n",
            "3\n",
            "4\n",
            "5\n",
            "6\n",
            "[[1 2 3]\n",
            " [4 5 6]]\n",
            "[[ 7  8  9]\n",
            " [10 11 12]]\n",
            "1\n",
            "2\n",
            "3\n",
            "4\n",
            "5\n",
            "6\n",
            "7\n",
            "8\n",
            "9\n",
            "10\n",
            "11\n",
            "12\n"
          ]
        }
      ]
    },
    {
      "cell_type": "code",
      "source": [
        "#Joining array\n",
        "\n",
        "#Joining using concantate() function\n",
        "\n",
        "import numpy as np\n",
        "\n",
        "arr1 = np.array([1, 2, 3])\n",
        "arr2 = np.array([4, 5, 6])\n",
        "\n",
        "arr = np.concatenate((arr1, arr2))\n",
        "\n",
        "print(arr)\n",
        "\n",
        "#Join two 2-D arrays along row (axis = 1):\n",
        "\n",
        "arr1 = np.array([[1, 2],[3, 4]])\n",
        "arr2 = np.array([[5, 6], [7, 8]])\n",
        "\n",
        "arr = np.concatenate((arr1 , arr2), axis = 1)\n",
        "\n",
        "print(arr)\n",
        "\n",
        "#Also we can join arrays usinb stack() method the only diff is that\n",
        "# stacking is done along new axis.\n",
        "\n",
        "#stack()\n",
        "# Example\n",
        "\n",
        "arr1 = np.array([1, 2, 3])\n",
        "arr2 = np.array([4, 5, 6])\n",
        "\n",
        "arr = np.stack((arr1, arr2), axis = 1)\n",
        "print(arr)\n",
        "\n",
        "#hstack() --> NumPy provides a helper function: hstack() to stack along rows.\n",
        "\n",
        "arr = np.hstack((arr1, arr2))\n",
        "print(arr)\n",
        "\n",
        "#vstack() -->:vstack()  to stack along columns.\n",
        "\n",
        "arr = np.vstack((arr1, arr2))\n",
        "print(arr)\n",
        "\n",
        "#dsctack() --> dstack() to stack along height, which is the same as depth.\n",
        "\n",
        "arr = np.dstack((arr1, arr2))\n",
        "\n",
        "print(arr)\n"
      ],
      "metadata": {
        "colab": {
          "base_uri": "https://localhost:8080/"
        },
        "id": "xnijr3ueaLkj",
        "outputId": "9c893e55-a068-409c-ca2a-6c85ecb57b37"
      },
      "execution_count": null,
      "outputs": [
        {
          "output_type": "stream",
          "name": "stdout",
          "text": [
            "[1 2 3 4 5 6]\n",
            "[[1 2 5 6]\n",
            " [3 4 7 8]]\n",
            "[[1 4]\n",
            " [2 5]\n",
            " [3 6]]\n",
            "[1 2 3 4 5 6]\n",
            "[[1 2 3]\n",
            " [4 5 6]]\n",
            "[[[1 4]\n",
            "  [2 5]\n",
            "  [3 6]]]\n"
          ]
        }
      ]
    },
    {
      "cell_type": "code",
      "source": [
        "#Numpy Splitting Array --> reverse operation of joining\n",
        "\n",
        "#Using array_split()\n",
        "\n",
        "#Example--> split in 3 parts\n",
        "\n",
        "import numpy as np\n",
        "\n",
        "arr = np.array([1, 2, 3, 4, 5, 6])\n",
        "\n",
        "newarr = np.array_split(arr, 3)\n",
        "\n",
        "print(newarr)\n",
        "\n",
        "# Split into 4 parts: #Using previous array list\n",
        "\n",
        "newarr = np.array_split(arr, 4)\n",
        "\n",
        "print(newarr)\n",
        "\n",
        "#Split into Arrays\n",
        "\n",
        "#Using previous array list\n",
        "\n",
        "newarr = np.array_split(arr, 3)\n",
        "\n",
        "print(newarr[0])\n",
        "print(newarr[1])\n",
        "print(newarr[2])\n",
        "\n",
        "#Splitting 2-D arrays\n",
        "\n",
        "arr = ([[1, 2], [3, 4], [5, 6], [7, 8], [9, 10], [11, 12]])\n",
        "\n",
        "newarr = np.array_split(arr, 3)\n",
        "\n",
        "print(newarr)"
      ],
      "metadata": {
        "colab": {
          "base_uri": "https://localhost:8080/"
        },
        "id": "QNIBwbB1ns0P",
        "outputId": "d579c4a7-3efd-4854-924b-cf4a0ae555ea"
      },
      "execution_count": null,
      "outputs": [
        {
          "output_type": "stream",
          "name": "stdout",
          "text": [
            "[array([1, 2]), array([3, 4]), array([5, 6])]\n",
            "[array([1, 2]), array([3, 4]), array([5]), array([6])]\n",
            "[1 2]\n",
            "[3 4]\n",
            "[5 6]\n",
            "[array([[1, 2],\n",
            "       [3, 4]]), array([[5, 6],\n",
            "       [7, 8]]), array([[ 9, 10],\n",
            "       [11, 12]])]\n"
          ]
        }
      ]
    },
    {
      "cell_type": "code",
      "source": [
        "#Searching Arrays --> using where() method\n",
        "\n",
        "import numpy as np\n",
        "\n",
        "arr = np.array([1, 2, 3, 4, 5, 4, 4])\n",
        "\n",
        "x = np.where(arr == 4)\n",
        "\n",
        "print(x)\n",
        "\n",
        "#Finding indexes where the values are even\n",
        "\n",
        "arr = np.array([1, 2, 3, 4, 5, 6, 7, 8])\n",
        "\n",
        "x = np.where(arr%2 == 0)\n",
        "\n",
        "print(x)\n",
        "\n",
        "#Finding indexes where the values are odd\n",
        "\n",
        "x = np.where(arr%2 == 1)\n",
        "\n",
        "print(x)\n",
        "\n",
        "#Search Sorted\n",
        "'''There is a method called searchsorted() which performs a binary search\n",
        "in the array, and returns the index whre the specified value would\n",
        "be insrted to maintain the search order'''\n",
        "\n",
        "arr = np.array([6, 7, 8, 9])\n",
        "\n",
        "x = np.searchsorted(arr, 7)\n",
        "\n",
        "print(x)\n",
        "\n",
        "#Search from the right side\n",
        "\n",
        "arr = np.array([6, 7, 8, 9])\n",
        "x = np.searchsorted(arr, 7, side = 'right')\n",
        "\n",
        "print(x)\n",
        "\n",
        "#Find the indexes where the values 2, 4, and 6 should be inserted:\n",
        "\n",
        "arr = np.array([1, 3, 5, 7])\n",
        "\n",
        "x = np.searchsorted(arr, [2, 4, 6])\n",
        "\n",
        "print(x)"
      ],
      "metadata": {
        "colab": {
          "base_uri": "https://localhost:8080/"
        },
        "id": "jdqyB5TRu13q",
        "outputId": "eeaed235-1c02-45f5-8b34-9a4c15a77f44"
      },
      "execution_count": null,
      "outputs": [
        {
          "output_type": "stream",
          "name": "stdout",
          "text": [
            "(array([3, 5, 6]),)\n",
            "(array([1, 3, 5, 7]),)\n",
            "(array([0, 2, 4, 6]),)\n",
            "1\n",
            "2\n",
            "[1 2 3]\n"
          ]
        }
      ]
    },
    {
      "cell_type": "code",
      "source": [
        "#Numpy Sorting\n",
        "\n",
        "#Sorting arrays: Using ordered sequence eg numerical or alphabetical\n",
        "#Using function called sort()\n",
        "\n",
        "#Sort the array:\n",
        "\n",
        "import numpy as np\n",
        "\n",
        "arr = np.array([3, 2, 0, 1])\n",
        "\n",
        "print(np.sort(arr))\n",
        "\n",
        "#Sort the array alphabetically:\n",
        "\n",
        "arr = np.array(['banana', 'cherry', 'apple'])\n",
        "\n",
        "print(np.sort(arr))\n",
        "\n",
        "#Sort a Boolean array\n",
        "\n",
        "arr= np.array([True, False, True])\n",
        "\n",
        "print(np.sort(arr))\n",
        "\n",
        "#Sort a 2-D array\n",
        "\n",
        "arr = np.array([[3, 2,4], [5, 0, 1]])\n",
        "\n",
        "print(np.sort(arr))"
      ],
      "metadata": {
        "colab": {
          "base_uri": "https://localhost:8080/"
        },
        "id": "H-xH4hPT6fDA",
        "outputId": "26079cd6-337b-443f-9ef3-3f9e8a3bf86e"
      },
      "execution_count": null,
      "outputs": [
        {
          "output_type": "stream",
          "name": "stdout",
          "text": [
            "[0 1 2 3]\n",
            "['apple' 'banana' 'cherry']\n",
            "[False  True  True]\n",
            "[[2 3 4]\n",
            " [0 1 5]]\n"
          ]
        }
      ]
    },
    {
      "cell_type": "code",
      "source": [
        "#Numpy Filter arrays\n",
        "''' Getting some elements out of an existing array and creating a new array\n",
        "out of them is called filtering.Youfilter an array using boolean index list'''\n",
        "\n",
        "#Create an array from the elements on index 0 and 2:\n",
        "import numpy as np\n",
        "\n",
        "arr = np.array([41, 42, 43, 44])\n",
        "\n",
        "x = [True, False, True, False]\n",
        "\n",
        "newarr = arr[x]\n",
        "\n",
        "print(newarr)\n",
        "\n",
        "# Create a filter array that will return only even elements from the original array:\n",
        "\n",
        "arr = np.array([1, 2, 3, 4, 5, 6, 7, 8])\n",
        "\n",
        "filter_arr = arr % 2 == 0\n",
        "\n",
        "newarr = arr[filter_arr]\n",
        "\n",
        "print(filter_arr)\n",
        "print(newarr)"
      ],
      "metadata": {
        "colab": {
          "base_uri": "https://localhost:8080/"
        },
        "id": "KFdZ9PC29CA0",
        "outputId": "66dd4db3-754d-4129-be16-2bab0a5376e7"
      },
      "execution_count": null,
      "outputs": [
        {
          "output_type": "stream",
          "name": "stdout",
          "text": [
            "[41 43]\n",
            "[False  True False  True False  True False  True]\n",
            "[2 4 6 8]\n"
          ]
        }
      ]
    },
    {
      "cell_type": "code",
      "source": [
        "#Random numbers in Numpy\n",
        "\n",
        "'''Random number does NOT mean a different number every time. Random means\n",
        "something that can not be predicted logically.'''\n",
        "\n"
      ],
      "metadata": {
        "id": "NYpgiGT__0Fu"
      },
      "execution_count": null,
      "outputs": []
    },
    {
      "cell_type": "markdown",
      "source": [
        "Pseudo Random and True Random.\n",
        "Computers work on programs, and programs are definitive set of instructions. So it means there must be some algorithm to generate a random number as well.\n",
        "\n",
        "If there is a program to generate random number it can be predicted, thus it is not truly random.\n",
        "\n",
        "Random numbers generated through a generation algorithm are called pseudo random.\n",
        "\n",
        "Can we make truly random numbers?\n",
        "\n",
        "Yes. In order to generate a truly random number on our computers we need to get the random data from some outside source. This outside source is generally our keystrokes, mouse movements, data on network etc.\n",
        "\n",
        "We do not need truly random numbers, unless it is related to security (e.g. encryption keys) or the basis of application is the randomness (e.g. Digital roulette wheels).\n",
        "\n",
        "# In this tutorial we will be using pseudo random numbers."
      ],
      "metadata": {
        "id": "9EnOvsa6KOt-"
      }
    },
    {
      "cell_type": "code",
      "source": [
        "#Generate Random numbers\n",
        "\n",
        "import numpy\n",
        "\n",
        "from numpy import random\n",
        "\n",
        "x = random.randint(100) #Intergers\n",
        "\n",
        "print(x)\n",
        "\n",
        "x = random.rand() #Generate a random float btwn 0 and 1\n",
        "\n",
        "print(x)\n",
        "\n",
        "#Generate Random Array:1-D array containing 5 random integers from 0 to 100\n",
        "\n",
        "x = random.randint(100, size =(5))\n",
        "\n",
        "print(x)\n",
        "\n",
        "#Generate 2-D array containing 5random integers from 0 to 100\n",
        "\n",
        "x = random.randint(100, size = (3, 5))\n",
        "\n",
        "print(x)\n",
        "#print(np.sort(x)) #Sorting the array generated\n",
        "\n",
        "#Floats\n",
        "\n",
        "#Example --> Generate a 1-D array containing 5 random floats\n",
        "\n",
        "x = random.rand(5)\n",
        "\n",
        "print(x)\n",
        "\n",
        "#Example --> Gnerate a 2-D array with 3 rows, each row containing 5 rand No\n",
        "\n",
        "x = random.rand(3, 5)\n",
        "\n",
        "print(x)"
      ],
      "metadata": {
        "colab": {
          "base_uri": "https://localhost:8080/"
        },
        "id": "074kSoRdMqMd",
        "outputId": "d346ceac-9e12-4a52-e997-87b1b45e7093"
      },
      "execution_count": null,
      "outputs": [
        {
          "output_type": "stream",
          "name": "stdout",
          "text": [
            "67\n",
            "0.3607091412054654\n",
            "[51 55 23 60 82]\n",
            "[[48  9 24 91 38]\n",
            " [59 17 91 19 70]\n",
            " [65 96 30 16 74]]\n",
            "[0.49943744 0.46351832 0.54888988 0.78170351 0.93841335]\n",
            "[[0.87296657 0.45589378 0.02927517 0.83679267 0.1680795 ]\n",
            " [0.23847599 0.12680925 0.46857281 0.49272795 0.94339652]\n",
            " [0.02516812 0.24442225 0.44050692 0.90963468 0.10698575]]\n"
          ]
        }
      ]
    },
    {
      "cell_type": "code",
      "source": [
        "#Generate random number from array\n",
        "#The choice() method allows you to generate random values based on an array of values\n",
        "\n",
        "import numpy\n",
        "\n",
        "from numpy import random\n",
        "\n",
        "x = random.choice([3, 5, 7, 9])\n",
        "\n",
        "print(x)\n",
        "\n",
        "x= random.choice([3, 5, 7, 9], size = (3, 5)) #Generate 2-D array\n",
        "\n",
        "print(x)"
      ],
      "metadata": {
        "colab": {
          "base_uri": "https://localhost:8080/"
        },
        "id": "v2F4KoOpUfGd",
        "outputId": "e9542149-2e7d-43ce-acaa-b29c3bd892f5"
      },
      "execution_count": null,
      "outputs": [
        {
          "output_type": "stream",
          "name": "stdout",
          "text": [
            "9\n",
            "[[5 3 3 3 5]\n",
            " [7 3 9 5 7]\n",
            " [7 7 3 5 5]]\n"
          ]
        }
      ]
    },
    {
      "cell_type": "markdown",
      "source": [
        "Random Data Distribution --> is a list of all possible values, and how often each value occurs.\n",
        "\n",
        "\n",
        "\n",
        "A random distribution is a set of random numbers that follow a certain probability density function.\n",
        "\n"
      ],
      "metadata": {
        "id": "ejxO-BGBWcaO"
      }
    },
    {
      "cell_type": "code",
      "source": [
        "#Example\n",
        "'''Generate a 1-D array containing 100 values,\n",
        "where each value has to be 3, 5, 7 or 9.\n",
        "\n",
        "The probability for the value to be 3 is set to be 0.1\n",
        "\n",
        "The probability for the value to be 5 is set to be 0.3\n",
        "\n",
        "The probability for the value to be 7 is set to be 0.6\n",
        "\n",
        "The probability for the value to be 9 is set to be 0 '''\n",
        "\n",
        "from numpy import random\n",
        "\n",
        "x = random.choice([3, 5, 7, 9], p = [0.1, 0.3, 0.6, 0.0], size = (100))\n",
        "\n",
        "print(x)\n",
        "\n",
        "x = random.choice([3, 5, 7, 9], p = [0.1, 0.3, 0.6, 0.0], size = (3, 5))\n",
        "\n",
        "print(x)"
      ],
      "metadata": {
        "colab": {
          "base_uri": "https://localhost:8080/"
        },
        "id": "zOtSHzLOWCFL",
        "outputId": "98468fe0-d538-419f-84fb-4d9e7428872d"
      },
      "execution_count": null,
      "outputs": [
        {
          "output_type": "stream",
          "name": "stdout",
          "text": [
            "[7 7 5 7 7 5 7 7 7 7 7 7 7 5 7 5 7 5 7 7 7 7 7 5 7 7 7 7 7 5 3 5 5 7 7 5 5\n",
            " 7 5 7 5 5 5 5 5 7 7 5 5 5 7 7 7 7 7 5 5 5 7 7 7 7 7 7 3 7 7 7 7 7 7 5 7 5\n",
            " 5 7 5 7 5 5 7 7 3 7 3 5 3 5 7 5 7 7 7 7 7 3 7 7 7 7]\n",
            "[[7 5 7 7 3]\n",
            " [3 7 7 7 7]\n",
            " [7 7 7 7 5]]\n"
          ]
        }
      ]
    },
    {
      "cell_type": "code",
      "source": [
        "#Random permutations of elements\n",
        "'''A permutation refers to an arrangement of elements.\n",
        "e.g. [3, 2, 1] is a permutation of [1, 2, 3] and vice-versa.\n",
        "The NumPy Random module provides two methods for this:\n",
        "shuffle() and permutation().'''\n",
        "\n",
        "#Shuffling arrays -->Shufle means changing arrangment of elements in-place.\n",
        "\n",
        "#Example -> #Randomly shuffle elements of following array:\n",
        "\n",
        "from numpy import random\n",
        "import numpy as np\n",
        "\n",
        "arr = np.array([1, 2, 3, 4, 5])\n",
        "\n",
        "random.shuffle(arr) #shuffle() method makes changes to the original array.\n",
        "\n",
        "print(arr)\n",
        "\n",
        "#Generating permutations of arrays:\n",
        "''' Generate a random permutation of following array:'''\n",
        "\n",
        "arr = np.array([1, 2, 3, 4, 5])\n",
        "\n",
        "print(random.permutation(arr))"
      ],
      "metadata": {
        "id": "8uRwPXsKXcyp",
        "colab": {
          "base_uri": "https://localhost:8080/"
        },
        "outputId": "f394e0c2-9b66-4c7c-e4bb-3d0dfb289b47"
      },
      "execution_count": null,
      "outputs": [
        {
          "output_type": "stream",
          "name": "stdout",
          "text": [
            "[4 3 1 2 5]\n",
            "[4 5 1 2 3]\n"
          ]
        }
      ]
    },
    {
      "cell_type": "code",
      "source": [
        "#SEABORN\n",
        "'''Seaborn is a library that uses matplotlib underneath to plot graphs.\n",
        "It will be used to visualize random distributions'''\n",
        "\n",
        "#Displots\n",
        "'''Displot stands for distribution plot, it takes as input an array and\n",
        "plots a curve corresponding to the distribution of points in the array.'''\n",
        "\n",
        "#Plotting a Displot\n",
        "\n",
        "import matplotlib.pyplot as plt\n",
        "import seaborn as sns\n",
        "\n",
        "sns.displot([0, 1, 2, 3, 4, 5])\n",
        "\n",
        "plt.show()\n",
        "\n",
        "#Ploting a Displot without the histogram\n",
        "\n",
        "sns.displot([0, 1, 2, 3, 4, 5], hist=False)\n",
        "\n",
        "plt.show()"
      ],
      "metadata": {
        "colab": {
          "base_uri": "https://localhost:8080/",
          "height": 506
        },
        "id": "rmVh0JgNhIsS",
        "outputId": "861b1788-6992-447e-fab6-73d2a5ed0dbd"
      },
      "execution_count": null,
      "outputs": [
        {
          "output_type": "display_data",
          "data": {
            "text/plain": [
              "<Figure size 500x500 with 1 Axes>"
            ],
            "image/png": "[encoded data removed]"
          },
          "metadata": {}
        }
      ]
    },
    {
      "cell_type": "markdown",
      "source": [
        "\n",
        "\n",
        "```\n",
        "Normal Distribution\n",
        "The Normal Distribution is one of the most important distributions.\n",
        "\n",
        "It is also called the Gaussian Distribution after the German mathematician Carl Friedrich Gauss.\n",
        "\n",
        "It fits the probability distribution of many events, eg. IQ Scores, Heartbeat etc.\n",
        "\n",
        "Use the random.normal() method to get a Normal Data Distribution.\n",
        "\n",
        "It has three parameters:\n",
        "\n",
        "loc - (Mean) where the peak of the bell exists.\n",
        "\n",
        "scale - (Standard Deviation) how flat the graph distribution should be.\n",
        "\n",
        "size - The shape of the returned array.\n",
        "```\n",
        "\n"
      ],
      "metadata": {
        "id": "Ld_2GudflRWN"
      }
    },
    {
      "cell_type": "code",
      "source": [
        "#Normal (Gaussian) Distribution\n",
        "\n",
        "#Example -> Generate a random noramal distribution of size 2*3\n",
        "\n",
        "from numpy import random\n",
        "\n",
        "x = random.normal(size =(2, 3))\n",
        "\n",
        "print(x)\n",
        "\n",
        "#Example -> Generate a random normal distribution of size 2x3 with mean at 1 and standard deviation of 2\n",
        "\n",
        "x = random.normal(loc=1, scale=2, size=(2, 3))\n",
        "\n",
        "print(x)"
      ],
      "metadata": {
        "colab": {
          "base_uri": "https://localhost:8080/"
        },
        "id": "bCq7iipDkqWA",
        "outputId": "06131b35-93f3-42ff-eaef-61fd8752f036"
      },
      "execution_count": null,
      "outputs": [
        {
          "output_type": "stream",
          "name": "stdout",
          "text": [
            "[[ 0.34454124  0.23429588 -0.44986186]\n",
            " [ 1.49817994  0.42279831 -0.40923786]]\n",
            "[[1.43260818 0.9065526  1.47399425]\n",
            " [2.54008592 1.16992942 2.08793826]]\n"
          ]
        }
      ]
    },
    {
      "cell_type": "code",
      "source": [
        "#Visualization of Normal Distribution\n",
        "\n",
        "#Example\n",
        "\n",
        "from numpy import random\n",
        "import matplotlib.pyplot as plt\n",
        "import seaborn as sns\n",
        "\n",
        "sns.distplot(random.normal(size=1000), hist=False)\n",
        "\n",
        "plt.show()"
      ],
      "metadata": {
        "colab": {
          "base_uri": "https://localhost:8080/",
          "height": 641
        },
        "id": "tRVtydUPmv_p",
        "outputId": "d32bd34d-e2ac-46ec-d275-f02a824ecffa"
      },
      "execution_count": null,
      "outputs": [
        {
          "output_type": "stream",
          "name": "stderr",
          "text": [
            "<ipython-input-18-652376ce0ed2>:9: UserWarning: \n",
            "\n",
            "`distplot` is a deprecated function and will be removed in seaborn v0.14.0.\n",
            "\n",
            "Please adapt your code to use either `displot` (a figure-level function with\n",
            "similar flexibility) or `kdeplot` (an axes-level function for kernel density plots).\n",
            "\n",
            "For a guide to updating your code to use the new functions, please see\n",
            "https://gist.github.com/mwaskom/de44147ed2974457ad6372750bbe5751\n",
            "\n",
            "  sns.distplot(random.normal(size=1000), hist=False)\n"
          ]
        },
        {
          "output_type": "display_data",
          "data": {
            "text/plain": [
              "<Figure size 640x480 with 1 Axes>"
            ],
            "image/png": "[encoded data removed]"
          },
          "metadata": {}
        }
      ]
    },
    {
      "cell_type": "code",
      "source": [
        "#Binomial Distribution\n",
        "\n",
        "#Example ->Given 10 trials for coin toss generate 10 data points:\n",
        "\n",
        "from numpy import random\n",
        "\n",
        "x= random.binomial(n=10, p=0.5, size=10)\n",
        "\n",
        "print(x)\n",
        "\n",
        "#Visualization of Binomial Distribution\n",
        "\n",
        "#Exampe\n",
        "\n",
        "import matplotlib.pyplot as plt\n",
        "import seaborn as sns\n",
        "\n",
        "sns.distplot(random.binomial(n = 10, p=0.5, size=1000), hist=True, kde=False)\n",
        "\n",
        "plt.show()"
      ],
      "metadata": {
        "colab": {
          "base_uri": "https://localhost:8080/",
          "height": 638
        },
        "id": "xiLwqc1JoOKI",
        "outputId": "6c1f7120-8b16-44c8-b174-7a9c1b66ebb2"
      },
      "execution_count": null,
      "outputs": [
        {
          "output_type": "stream",
          "name": "stdout",
          "text": [
            "[6 5 2 6 5 6 4 2 4 6]\n"
          ]
        },
        {
          "output_type": "stream",
          "name": "stderr",
          "text": [
            "<ipython-input-27-c936dbdc0ba0>:18: UserWarning: \n",
            "\n",
            "`distplot` is a deprecated function and will be removed in seaborn v0.14.0.\n",
            "\n",
            "Please adapt your code to use either `displot` (a figure-level function with\n",
            "similar flexibility) or `histplot` (an axes-level function for histograms).\n",
            "\n",
            "For a guide to updating your code to use the new functions, please see\n",
            "https://gist.github.com/mwaskom/de44147ed2974457ad6372750bbe5751\n",
            "\n",
            "  sns.distplot(random.binomial(n = 10, p=0.5, size=1000), hist=True, kde=False)\n"
          ]
        },
        {
          "output_type": "display_data",
          "data": {
            "text/plain": [
              "<Figure size 640x480 with 1 Axes>"
            ],
            "image/png": "[encoded data removed]"
          },
          "metadata": {}
        }
      ]
    },
    {
      "cell_type": "code",
      "source": [
        "#Diffefernce btwn Normal and Binomial Distribution\n",
        "'''The main difference is that normal distribution is continous\n",
        "whereas binomial is discrete, but if there are enough data points\n",
        "it will be quite similar to normal distribution with certain\n",
        "loc and scale.'''\n",
        "\n",
        "#Example\n",
        "\n",
        "from numpy import random\n",
        "import matplotlib.pyplot as plt\n",
        "import seaborn as sns\n",
        "\n",
        "sns.distplot(random.normal(loc=50,scale=5, size =1000), hist =False, label ='normal')\n",
        "sns.distplot(random.binomial(n=100, p = 0.5, size = 1000), hist=False, label='binomial')\n",
        "\n",
        "plt.show()"
      ],
      "metadata": {
        "colab": {
          "base_uri": "https://localhost:8080/",
          "height": 832
        },
        "id": "5-vCYqAz8UFJ",
        "outputId": "786468ec-ed63-44c3-fa10-7fe8e26ea6d2"
      },
      "execution_count": null,
      "outputs": [
        {
          "output_type": "stream",
          "name": "stderr",
          "text": [
            "<ipython-input-28-b558ab495181>:13: UserWarning: \n",
            "\n",
            "`distplot` is a deprecated function and will be removed in seaborn v0.14.0.\n",
            "\n",
            "Please adapt your code to use either `displot` (a figure-level function with\n",
            "similar flexibility) or `kdeplot` (an axes-level function for kernel density plots).\n",
            "\n",
            "For a guide to updating your code to use the new functions, please see\n",
            "https://gist.github.com/mwaskom/de44147ed2974457ad6372750bbe5751\n",
            "\n",
            "  sns.distplot(random.normal(loc=50,scale=5, size =1000), hist =False, label ='normal')\n",
            "<ipython-input-28-b558ab495181>:14: UserWarning: \n",
            "\n",
            "`distplot` is a deprecated function and will be removed in seaborn v0.14.0.\n",
            "\n",
            "Please adapt your code to use either `displot` (a figure-level function with\n",
            "similar flexibility) or `kdeplot` (an axes-level function for kernel density plots).\n",
            "\n",
            "For a guide to updating your code to use the new functions, please see\n",
            "https://gist.github.com/mwaskom/de44147ed2974457ad6372750bbe5751\n",
            "\n",
            "  sns.distplot(random.binomial(n=100, p = 0.5, size = 1000), hist=False, label='binomial')\n"
          ]
        },
        {
          "output_type": "display_data",
          "data": {
            "text/plain": [
              "<Figure size 640x480 with 1 Axes>"
            ],
            "image/png": "[encoded data removed]"
          },
          "metadata": {}
        }
      ]
    },
    {
      "cell_type": "markdown",
      "source": [
        "\n",
        "Poisson Distribution\n",
        "```\n",
        "It estimates how many times an event can happen\n",
        "in a specified time. e.g If someone eats twice a day,\n",
        "what is the probability that he will eat trice?\n",
        "\n",
        "It has two parameters:\n",
        "lam - known number of occurences e.g 2 for eating\n",
        "size - The shape of the returned array\n",
        "```\n",
        "\n"
      ],
      "metadata": {
        "id": "GOCWh54iAKuj"
      }
    },
    {
      "cell_type": "code",
      "source": [
        "#Example -> Generate a random 1x10 distribution for occurance 2:\n",
        "\n",
        "from numpy import random\n",
        "\n",
        "x = random.poisson(lam = 2, size=10)\n",
        "\n",
        "print(x)\n",
        "\n",
        "import matplotlib.pyplot as plt\n",
        "import seaborn as sns\n",
        "\n",
        "sns.distplot(random.poisson(lam = 2, size = 1000), kde = False)\n",
        "\n",
        "plt.show()"
      ],
      "metadata": {
        "colab": {
          "base_uri": "https://localhost:8080/",
          "height": 638
        },
        "id": "rTfaENZMBMVj",
        "outputId": "8916f012-a43a-4dfe-dc20-f1e23a474049"
      },
      "execution_count": null,
      "outputs": [
        {
          "output_type": "stream",
          "name": "stdout",
          "text": [
            "[2 1 2 2 1 5 2 2 3 4]\n"
          ]
        },
        {
          "output_type": "stream",
          "name": "stderr",
          "text": [
            "<ipython-input-30-197aeae4b9a8>:12: UserWarning: \n",
            "\n",
            "`distplot` is a deprecated function and will be removed in seaborn v0.14.0.\n",
            "\n",
            "Please adapt your code to use either `displot` (a figure-level function with\n",
            "similar flexibility) or `histplot` (an axes-level function for histograms).\n",
            "\n",
            "For a guide to updating your code to use the new functions, please see\n",
            "https://gist.github.com/mwaskom/de44147ed2974457ad6372750bbe5751\n",
            "\n",
            "  sns.distplot(random.poisson(lam = 2, size = 1000), kde = False)\n"
          ]
        },
        {
          "output_type": "display_data",
          "data": {
            "text/plain": [
              "<Figure size 640x480 with 1 Axes>"
            ],
            "image/png": "[encoded data removed]"
          },
          "metadata": {}
        }
      ]
    },
    {
      "cell_type": "markdown",
      "source": [
        "**Difference Between Normal and Poisson Distribution**\n",
        "\n",
        "Normal distribution is continuous whereas poisson is discrete.\n",
        "\n",
        "But we can see that similar to binomial for a large enough poisson distribution it will become similar to normal distribution with certain std dev and mean."
      ],
      "metadata": {
        "id": "M9zpnCBfDBp8"
      }
    },
    {
      "cell_type": "code",
      "source": [
        "from numpy import random\n",
        "import matplotlib.pyplot as plt\n",
        "import seaborn as sns\n",
        "\n",
        "sns.distplot(random.normal(loc=50, scale =7, size = 1000), hist = False, label =\"normal\")\n",
        "sns.distplot(random.poisson(lam = 50, size =1000), hist=False, label ='poisson')\n",
        "\n",
        "plt.show()"
      ],
      "metadata": {
        "colab": {
          "base_uri": "https://localhost:8080/",
          "height": 832
        },
        "id": "M1nlfE3iDLIO",
        "outputId": "122c5486-d1c1-4218-9328-28e293f0500b"
      },
      "execution_count": null,
      "outputs": [
        {
          "output_type": "stream",
          "name": "stderr",
          "text": [
            "<ipython-input-31-9d404fa2f23b>:5: UserWarning: \n",
            "\n",
            "`distplot` is a deprecated function and will be removed in seaborn v0.14.0.\n",
            "\n",
            "Please adapt your code to use either `displot` (a figure-level function with\n",
            "similar flexibility) or `kdeplot` (an axes-level function for kernel density plots).\n",
            "\n",
            "For a guide to updating your code to use the new functions, please see\n",
            "https://gist.github.com/mwaskom/de44147ed2974457ad6372750bbe5751\n",
            "\n",
            "  sns.distplot(random.normal(loc=50, scale =7, size = 1000), hist = False, label =\"normal\")\n",
            "<ipython-input-31-9d404fa2f23b>:6: UserWarning: \n",
            "\n",
            "`distplot` is a deprecated function and will be removed in seaborn v0.14.0.\n",
            "\n",
            "Please adapt your code to use either `displot` (a figure-level function with\n",
            "similar flexibility) or `kdeplot` (an axes-level function for kernel density plots).\n",
            "\n",
            "For a guide to updating your code to use the new functions, please see\n",
            "https://gist.github.com/mwaskom/de44147ed2974457ad6372750bbe5751\n",
            "\n",
            "  sns.distplot(random.poisson(lam = 50, size =1000), hist=False, label ='poisson')\n"
          ]
        },
        {
          "output_type": "display_data",
          "data": {
            "text/plain": [
              "<Figure size 640x480 with 1 Axes>"
            ],
            "image/png": "[encoded data removed]"
          },
          "metadata": {}
        }
      ]
    },
    {
      "cell_type": "markdown",
      "source": [
        "**Difference Between Binomial and Poisson Distribution**\n",
        "\n",
        "Binomial distribution only has two possible outcomes, whereas poisson distribution can have unlimited possible outcomes.\n",
        "\n",
        "But for very large n and near-zero p binomial distribution is near identical to poisson distribution such that n * p is nearly equal to lam."
      ],
      "metadata": {
        "id": "wA33fQi9FFGZ"
      }
    },
    {
      "cell_type": "code",
      "source": [
        "from numpy import random\n",
        "import matplotlib.pyplot as plt\n",
        "import seaborn as sns\n",
        "\n",
        "sns.distplot(random.binomial(n=1000, p=0.01, size=1000), hist=False, label='binomial')\n",
        "sns.distplot(random.poisson(lam=10, size=1000), hist=False, label='poisson')\n",
        "\n",
        "plt.show()"
      ],
      "metadata": {
        "colab": {
          "base_uri": "https://localhost:8080/",
          "height": 832
        },
        "id": "S5pf2qK6FMTP",
        "outputId": "c08ecdf6-a736-457c-8df4-affa37cfade6"
      },
      "execution_count": null,
      "outputs": [
        {
          "output_type": "stream",
          "name": "stderr",
          "text": [
            "<ipython-input-32-a53ab341603a>:5: UserWarning: \n",
            "\n",
            "`distplot` is a deprecated function and will be removed in seaborn v0.14.0.\n",
            "\n",
            "Please adapt your code to use either `displot` (a figure-level function with\n",
            "similar flexibility) or `kdeplot` (an axes-level function for kernel density plots).\n",
            "\n",
            "For a guide to updating your code to use the new functions, please see\n",
            "https://gist.github.com/mwaskom/de44147ed2974457ad6372750bbe5751\n",
            "\n",
            "  sns.distplot(random.binomial(n=1000, p=0.01, size=1000), hist=False, label='binomial')\n",
            "<ipython-input-32-a53ab341603a>:6: UserWarning: \n",
            "\n",
            "`distplot` is a deprecated function and will be removed in seaborn v0.14.0.\n",
            "\n",
            "Please adapt your code to use either `displot` (a figure-level function with\n",
            "similar flexibility) or `kdeplot` (an axes-level function for kernel density plots).\n",
            "\n",
            "For a guide to updating your code to use the new functions, please see\n",
            "https://gist.github.com/mwaskom/de44147ed2974457ad6372750bbe5751\n",
            "\n",
            "  sns.distplot(random.poisson(lam=10, size=1000), hist=False, label='poisson')\n"
          ]
        },
        {
          "output_type": "display_data",
          "data": {
            "text/plain": [
              "<Figure size 640x480 with 1 Axes>"
            ],
            "image/png": "[encoded data removed]"
          },
          "metadata": {}
        }
      ]
    },
    {
      "cell_type": "code",
      "source": [
        "#Uniform Distribution\n",
        "\n",
        "#Used to descibe probability where every event has equal chances to occur:\n",
        "\n",
        "#It has three parameters: a -> lower bond, b -> upper, size->shape of arr\n",
        "\n",
        "#Example: -> Create a 2x3 uniform distribution sample:\n",
        "\n",
        "from numpy import random\n",
        "\n",
        "x = random.uniform(size=(2, 3))\n",
        "\n",
        "print(x)\n",
        "\n",
        "#Visualization of Uniform Distribution\n",
        "\n",
        "import matplotlib.pyplot as plt\n",
        "import seaborn as sns\n",
        "\n",
        "sns.distplot(random.uniform(size = 1000), hist = False)\n",
        "\n",
        "plt.show()"
      ],
      "metadata": {
        "colab": {
          "base_uri": "https://localhost:8080/",
          "height": 676
        },
        "id": "SAuxOzFEFX7U",
        "outputId": "a04826d8-1782-45bf-b2f2-42b14bf31436"
      },
      "execution_count": null,
      "outputs": [
        {
          "output_type": "stream",
          "name": "stdout",
          "text": [
            "[[0.31944881 0.4525071  0.19732961]\n",
            " [0.71875741 0.71120071 0.40671112]]\n"
          ]
        },
        {
          "output_type": "stream",
          "name": "stderr",
          "text": [
            "<ipython-input-3-ef7c7e67999a>:20: UserWarning: \n",
            "\n",
            "`distplot` is a deprecated function and will be removed in seaborn v0.14.0.\n",
            "\n",
            "Please adapt your code to use either `displot` (a figure-level function with\n",
            "similar flexibility) or `kdeplot` (an axes-level function for kernel density plots).\n",
            "\n",
            "For a guide to updating your code to use the new functions, please see\n",
            "https://gist.github.com/mwaskom/de44147ed2974457ad6372750bbe5751\n",
            "\n",
            "  sns.distplot(random.uniform(size = 1000), hist = False)\n"
          ]
        },
        {
          "output_type": "display_data",
          "data": {
            "text/plain": [
              "<Figure size 640x480 with 1 Axes>"
            ],
            "image/png": "[encoded data removed]"
          },
          "metadata": {}
        }
      ]
    },
    {
      "cell_type": "code",
      "source": [
        "#Logistic Distribution\n",
        "\n",
        "#Used to describe growth, also in logistic regression, neural networks etc.\n",
        "\n",
        "#Three parameters: loc -> mean scale - standard deviation size- array shape\n",
        "\n",
        "#Example\n",
        "#Draw 2x3 samples from a logistic distribution with mean at 1 and stddev 2.0:\n",
        "\n",
        "from numpy import random\n",
        "x = random.logistic(loc = 1, scale = 2, size=(2, 3))\n",
        "\n",
        "print(x)\n",
        "\n",
        "#Visualization of logistic distribution:\n",
        "\n",
        "import matplotlib.pyplot as plt\n",
        "import seaborn as sns\n",
        "\n",
        "sns.distplot(random.logistic(size =1000), hist = False)\n",
        "\n",
        "plt.show()"
      ],
      "metadata": {
        "colab": {
          "base_uri": "https://localhost:8080/",
          "height": 676
        },
        "id": "8Bi2CpvILhcI",
        "outputId": "5ac3e94c-cf93-4cf1-b3b8-fdac4c25c423"
      },
      "execution_count": null,
      "outputs": [
        {
          "output_type": "stream",
          "name": "stdout",
          "text": [
            "[[ 0.79252513  3.14599915 -2.27760016]\n",
            " [ 2.1407876   6.0955632  -9.69514765]]\n"
          ]
        },
        {
          "output_type": "stream",
          "name": "stderr",
          "text": [
            "<ipython-input-6-0e16e761874b>:20: UserWarning: \n",
            "\n",
            "`distplot` is a deprecated function and will be removed in seaborn v0.14.0.\n",
            "\n",
            "Please adapt your code to use either `displot` (a figure-level function with\n",
            "similar flexibility) or `kdeplot` (an axes-level function for kernel density plots).\n",
            "\n",
            "For a guide to updating your code to use the new functions, please see\n",
            "https://gist.github.com/mwaskom/de44147ed2974457ad6372750bbe5751\n",
            "\n",
            "  sns.distplot(random.logistic(size =1000), hist = False)\n"
          ]
        },
        {
          "output_type": "display_data",
          "data": {
            "text/plain": [
              "<Figure size 640x480 with 1 Axes>"
            ],
            "image/png": "[encoded data removed]"
          },
          "metadata": {}
        }
      ]
    },
    {
      "cell_type": "markdown",
      "source": [
        "**Difference Between Logistic and Normal Distribution**\n",
        "\n",
        "Both distributions are near identical, but logistic distribution has more area under the tails, meaning it represents more possibility of occurrence of an event further away from mean.\n",
        "\n",
        "For higher value of scale (standard deviation) the normal and logistic distributions are near identical apart from the peak."
      ],
      "metadata": {
        "id": "D2wmRQojOyaK"
      }
    },
    {
      "cell_type": "code",
      "source": [
        "from numpy import random\n",
        "import matplotlib.pyplot as plt\n",
        "import seaborn as sns\n",
        "\n",
        "sns.distplot(random.normal(scale = 2, size = 1000), hist = False, label = 'normal')\n",
        "sns.distplot(random.logistic(size=1000), hist = False, label = 'logistic')\n",
        "\n",
        "plt.show()"
      ],
      "metadata": {
        "colab": {
          "base_uri": "https://localhost:8080/",
          "height": 837
        },
        "id": "S-YWbPXeOdFb",
        "outputId": "53dc72db-2b87-4647-f967-df4b3c345375"
      },
      "execution_count": null,
      "outputs": [
        {
          "output_type": "stream",
          "name": "stderr",
          "text": [
            "<ipython-input-8-1816b11fee9d>:5: UserWarning: \n",
            "\n",
            "`distplot` is a deprecated function and will be removed in seaborn v0.14.0.\n",
            "\n",
            "Please adapt your code to use either `displot` (a figure-level function with\n",
            "similar flexibility) or `kdeplot` (an axes-level function for kernel density plots).\n",
            "\n",
            "For a guide to updating your code to use the new functions, please see\n",
            "https://gist.github.com/mwaskom/de44147ed2974457ad6372750bbe5751\n",
            "\n",
            "  sns.distplot(random.normal(scale = 2, size = 1000), hist = False, label = 'normal')\n",
            "<ipython-input-8-1816b11fee9d>:6: UserWarning: \n",
            "\n",
            "`distplot` is a deprecated function and will be removed in seaborn v0.14.0.\n",
            "\n",
            "Please adapt your code to use either `displot` (a figure-level function with\n",
            "similar flexibility) or `kdeplot` (an axes-level function for kernel density plots).\n",
            "\n",
            "For a guide to updating your code to use the new functions, please see\n",
            "https://gist.github.com/mwaskom/de44147ed2974457ad6372750bbe5751\n",
            "\n",
            "  sns.distplot(random.logistic(size=1000), hist = False, label = 'logistic')\n"
          ]
        },
        {
          "output_type": "display_data",
          "data": {
            "text/plain": [
              "<Figure size 640x480 with 1 Axes>"
            ],
            "image/png": "[encoded data removed]"
          },
          "metadata": {}
        }
      ]
    },
    {
      "cell_type": "markdown",
      "source": [
        "**Multinomial Distribution**\n",
        "\n",
        "Multinomial distribution is a generalization of binomial distribution.\n",
        "\n",
        "It describes outcomes of multi-nomial scenarios unlike binomial where scenarios must be only one of two. e.g. Blood type of a population, dice roll outcome.\n",
        "\n",
        "It has three parameters:\n",
        "\n",
        "n - number of possible outcomes (e.g. 6 for dice roll).\n",
        "\n",
        "pvals - list of probabilties of outcomes (e.g. [1/6, 1/6, 1/6, 1/6, 1/6, 1/6] for dice roll).\n",
        "\n",
        "size - The shape of the returned array."
      ],
      "metadata": {
        "id": "Y-cjhFxsP8Ii"
      }
    },
    {
      "cell_type": "code",
      "source": [
        "#Multinomial Distribution:\n",
        "\n",
        "#Example: Draw out a sample for dice roll:\n",
        "\n",
        "from numpy import random\n",
        "\n",
        "x = random.multinomial(n=6, pvals=[1/6, 1/6, 1/6, 1/6, 1/6, 1/6])\n",
        "\n",
        "print(x)"
      ],
      "metadata": {
        "colab": {
          "base_uri": "https://localhost:8080/"
        },
        "id": "jZDPBA0hPxit",
        "outputId": "a3d00549-27a4-4bb4-a09d-a3dd63890a25"
      },
      "execution_count": null,
      "outputs": [
        {
          "output_type": "stream",
          "name": "stdout",
          "text": [
            "[2 1 0 2 1 0]\n"
          ]
        }
      ]
    },
    {
      "cell_type": "code",
      "source": [
        "#Exponential Distribution\n",
        "\n",
        "# Used for describing time till next event e.g failure/success etc.\n",
        "\n",
        "#Two Parameters used: scale - inverse of rate, size - shape of returned arr\n",
        "\n",
        "#Example: Draw out a sample for exponential distribution with scale 2.0 with 2x3 size:\n",
        "\n",
        "from numpy import random\n",
        "\n",
        "x = random.exponential(scale = 2, size = (2, 3))\n",
        "\n",
        "print(x)\n",
        "\n",
        "#Visualization of exponential Distribution\n",
        "\n",
        "import matplotlib.pyplot as plt\n",
        "import seaborn as sns\n",
        "\n",
        "sns.distplot(random.exponential(size = 1000), hist =False)\n",
        "\n",
        "plt.show()\n",
        "\n",
        "#Poisson distribution deals with number of occurences of an event in a time period\n",
        "#exponential distribution deals with the time between these events."
      ],
      "metadata": {
        "colab": {
          "base_uri": "https://localhost:8080/",
          "height": 676
        },
        "id": "AP2mhebjRLbj",
        "outputId": "18e1b268-5073-453a-b0f2-51b148ec0cd8"
      },
      "execution_count": null,
      "outputs": [
        {
          "output_type": "stream",
          "name": "stdout",
          "text": [
            "[[0.50989792 0.42935735 2.03966704]\n",
            " [1.99415134 0.26555182 1.8455994 ]]\n"
          ]
        },
        {
          "output_type": "stream",
          "name": "stderr",
          "text": [
            "<ipython-input-17-935004a93ab7>:20: UserWarning: \n",
            "\n",
            "`distplot` is a deprecated function and will be removed in seaborn v0.14.0.\n",
            "\n",
            "Please adapt your code to use either `displot` (a figure-level function with\n",
            "similar flexibility) or `kdeplot` (an axes-level function for kernel density plots).\n",
            "\n",
            "For a guide to updating your code to use the new functions, please see\n",
            "https://gist.github.com/mwaskom/de44147ed2974457ad6372750bbe5751\n",
            "\n",
            "  sns.distplot(random.exponential(size = 1000), hist =False)\n"
          ]
        },
        {
          "output_type": "display_data",
          "data": {
            "text/plain": [
              "<Figure size 640x480 with 1 Axes>"
            ],
            "image/png": "[encoded data removed]"
          },
          "metadata": {}
        }
      ]
    },
    {
      "cell_type": "code",
      "source": [
        "#Chi Square Distribution\n",
        "\n",
        "#Used as a basis to verify hypothesis.\n",
        "\n",
        "#Two parameters: df - degree of freedom size - shape of returned array\n",
        "\n",
        "#Example: Draw out asample of chi squared distribution with df = 2 and size 2x3\n",
        "\n",
        "from numpy import random\n",
        "\n",
        "x = random.chisquare(df = 2, size=(2, 3))\n",
        "\n",
        "print(x)\n",
        "\n",
        "#Visualize Chi Square Distribution\n",
        "\n",
        "#Example:\n",
        "import matplotlib.pyplot as plt\n",
        "import seaborn as sns\n",
        "\n",
        "sns.distplot(random.chisquare(df = 1, size = 1000), hist = False)\n",
        "\n",
        "plt.show()"
      ],
      "metadata": {
        "colab": {
          "base_uri": "https://localhost:8080/",
          "height": 676
        },
        "id": "mF7lN_tYWbUS",
        "outputId": "2bebc084-98c8-43bd-f85e-ba7706e5059e"
      },
      "execution_count": null,
      "outputs": [
        {
          "output_type": "stream",
          "name": "stdout",
          "text": [
            "[[3.63286918 9.82606241 2.24572989]\n",
            " [1.32181086 1.55403312 0.53513008]]\n"
          ]
        },
        {
          "output_type": "stream",
          "name": "stderr",
          "text": [
            "<ipython-input-19-c60e0e5f04dd>:21: UserWarning: \n",
            "\n",
            "`distplot` is a deprecated function and will be removed in seaborn v0.14.0.\n",
            "\n",
            "Please adapt your code to use either `displot` (a figure-level function with\n",
            "similar flexibility) or `kdeplot` (an axes-level function for kernel density plots).\n",
            "\n",
            "For a guide to updating your code to use the new functions, please see\n",
            "https://gist.github.com/mwaskom/de44147ed2974457ad6372750bbe5751\n",
            "\n",
            "  sns.distplot(random.chisquare(df = 1, size = 1000), hist = False)\n"
          ]
        },
        {
          "output_type": "display_data",
          "data": {
            "text/plain": [
              "<Figure size 640x480 with 1 Axes>"
            ],
            "image/png": "[encoded data removed]"
          },
          "metadata": {}
        }
      ]
    },
    {
      "cell_type": "code",
      "source": [
        "#Rayleigh Distribution\n",
        "\n",
        "#Used in signal processing.\n",
        "\n",
        "#Two parameters: Scale- standard deviation, size - shape of returned array\n",
        "\n",
        "#Example: Draw out a sample of rayleigh distribution with scale 2, size 2x3\n",
        "\n",
        "from numpy import random\n",
        "\n",
        "x = random.rayleigh(scale=2, size= (2, 3))\n",
        "\n",
        "print(x)\n",
        "\n",
        "#Visualization of Rayleigh distribution\n",
        "\n",
        "#Example\n",
        "\n",
        "import matplotlib.pyplot as plt\n",
        "import seaborn as sns\n",
        "\n",
        "sns.distplot(random.rayleigh(size = 1000), hist = False)\n",
        "\n",
        "plt.show()\n",
        "\n"
      ],
      "metadata": {
        "colab": {
          "base_uri": "https://localhost:8080/",
          "height": 676
        },
        "id": "lGga2k2pYf1w",
        "outputId": "361e3baf-0261-4ec6-9d12-c1fce264e2a0"
      },
      "execution_count": null,
      "outputs": [
        {
          "output_type": "stream",
          "name": "stdout",
          "text": [
            "[[4.62724295 2.91403989 0.92061138]\n",
            " [2.28825574 1.03509042 2.41553126]]\n"
          ]
        },
        {
          "output_type": "stream",
          "name": "stderr",
          "text": [
            "<ipython-input-21-6ec2d4d79f79>:22: UserWarning: \n",
            "\n",
            "`distplot` is a deprecated function and will be removed in seaborn v0.14.0.\n",
            "\n",
            "Please adapt your code to use either `displot` (a figure-level function with\n",
            "similar flexibility) or `kdeplot` (an axes-level function for kernel density plots).\n",
            "\n",
            "For a guide to updating your code to use the new functions, please see\n",
            "https://gist.github.com/mwaskom/de44147ed2974457ad6372750bbe5751\n",
            "\n",
            "  sns.distplot(random.rayleigh(size = 1000), hist = False)\n"
          ]
        },
        {
          "output_type": "display_data",
          "data": {
            "text/plain": [
              "<Figure size 640x480 with 1 Axes>"
            ],
            "image/png": "[encoded data removed]"
          },
          "metadata": {}
        }
      ]
    },
    {
      "cell_type": "code",
      "source": [
        "#Pareto Distribution\n",
        "#20% factors cause 80% outcome\n",
        "#Two parameters: a - shape parameter, size - shape of the returned array\n",
        "\n",
        "#Example:Draw a sample for pareto distribution with shape- 2 with size 2x3\n",
        "\n",
        "from numpy import random\n",
        "\n",
        "x = random.pareto(a = 2, size = (2, 3))\n",
        "\n",
        "print(x)\n",
        "\n",
        "#Visualization of pareto Distribution\n",
        "\n",
        "#Example:\n",
        "\n",
        "import matplotlib.pyplot as plt\n",
        "import seaborn as sns\n",
        "\n",
        "sns.distplot(random.pareto(a =2, size = 1000), hist = False)\n",
        "\n",
        "plt.show()"
      ],
      "metadata": {
        "colab": {
          "base_uri": "https://localhost:8080/",
          "height": 676
        },
        "id": "gkgOtoBsaVSA",
        "outputId": "028c7133-7922-4446-b054-9f92f5211529"
      },
      "execution_count": null,
      "outputs": [
        {
          "output_type": "stream",
          "name": "stdout",
          "text": [
            "[[0.48694237 0.63567776 1.7932962 ]\n",
            " [0.05466845 3.225084   0.94466475]]\n"
          ]
        },
        {
          "output_type": "stream",
          "name": "stderr",
          "text": [
            "<ipython-input-24-8b97ccdc093b>:20: UserWarning: \n",
            "\n",
            "`distplot` is a deprecated function and will be removed in seaborn v0.14.0.\n",
            "\n",
            "Please adapt your code to use either `displot` (a figure-level function with\n",
            "similar flexibility) or `kdeplot` (an axes-level function for kernel density plots).\n",
            "\n",
            "For a guide to updating your code to use the new functions, please see\n",
            "https://gist.github.com/mwaskom/de44147ed2974457ad6372750bbe5751\n",
            "\n",
            "  sns.distplot(random.pareto(a =2, size = 1000), hist = False)\n"
          ]
        },
        {
          "output_type": "display_data",
          "data": {
            "text/plain": [
              "<Figure size 640x480 with 1 Axes>"
            ],
            "image/png": "[encoded data removed]"
          },
          "metadata": {}
        }
      ]
    },
    {
      "cell_type": "code",
      "source": [
        "#Zipf Distribution\n",
        "#Used to sample data basedon zipf's law\n",
        "\n",
        "#Parameters:a - distribution parameter, size - shape of returned array\n",
        "\n",
        "#Example: Draw out a sample for zipf distribution with distribution parameter 2 withsize 2x3\n",
        "\n",
        "from numpy import random\n",
        "\n",
        "x = random.zipf(a = 2, size =(2, 3))\n",
        "\n",
        "print(x)\n",
        "\n",
        "#Visualization of Zipf Distribution\n",
        "#Example:\n",
        "#Sample 1000 points but plotting only ones with value < 10 for more meaningful chart\n",
        "\n",
        "#Solution:\n",
        "import matplotlib.pyplot as plt\n",
        "import seaborn as sns\n",
        "\n",
        "x = random.zipf(a =2 , size = 1000)\n",
        "sns.distplot(x[x < 10], kde = False)"
      ],
      "metadata": {
        "colab": {
          "base_uri": "https://localhost:8080/",
          "height": 673
        },
        "id": "no629DLxdB-d",
        "outputId": "9d0ea756-6d0b-4b0a-beed-4ca71088d850"
      },
      "execution_count": null,
      "outputs": [
        {
          "output_type": "stream",
          "name": "stdout",
          "text": [
            "[[1 2 1]\n",
            " [1 1 1]]\n"
          ]
        },
        {
          "output_type": "stream",
          "name": "stderr",
          "text": [
            "<ipython-input-30-391e909f6c6c>:20: UserWarning: \n",
            "\n",
            "`distplot` is a deprecated function and will be removed in seaborn v0.14.0.\n",
            "\n",
            "Please adapt your code to use either `displot` (a figure-level function with\n",
            "similar flexibility) or `histplot` (an axes-level function for histograms).\n",
            "\n",
            "For a guide to updating your code to use the new functions, please see\n",
            "https://gist.github.com/mwaskom/de44147ed2974457ad6372750bbe5751\n",
            "\n",
            "  sns.distplot(x[x < 10], kde = False)\n"
          ]
        },
        {
          "output_type": "execute_result",
          "data": {
            "text/plain": [
              "<Axes: >"
            ]
          },
          "metadata": {},
          "execution_count": 30
        },
        {
          "output_type": "display_data",
          "data": {
            "text/plain": [
              "<Figure size 640x480 with 1 Axes>"
            ],
            "image/png": "[encoded data removed]"
          },
          "metadata": {}
        }
      ]
    },
    {
      "cell_type": "code",
      "source": [
        "#Numpy ufuncs - Universal Functions\n",
        "\n",
        "#They are Numpy functions that operate on the ndarray object\n",
        "'''\n",
        "Why use ufuncs?\n",
        "ufuncs are used to implement vectorization in NumPy which is way faster than iterating over elements.\n",
        "\n",
        "They also provide broadcasting and additional methods like reduce, accumulate etc. that are very helpful for computation.\n",
        "\n",
        "ufuncs also take additional arguments, like:\n",
        "\n",
        "where - boolean array or condition defining where the operations should take place.\n",
        "\n",
        "dtype - defining the return type of elements.\n",
        "\n",
        "out - output array where the return value should be copied.\n",
        "\n",
        "What is Vectorization?\n",
        "Converting iterative statements into a vector based operation is called vectorization.\n",
        "\n",
        "It is faster as modern CPUs are optimized for such operations.\n",
        "\n",
        "Add the Elements of Two Lists\n",
        "list 1: [1, 2, 3, 4]\n",
        "\n",
        "list 2: [4, 5, 6, 7]\n",
        "\n",
        "One way of doing it is to iterate over both of the lists and then sum each elements.\n",
        "\n",
        "\n",
        "'''\n",
        "#Example- wthout ufunc, we can use pythons built in zip() method:\n",
        "\n",
        "x = [1, 2, 3, 4]\n",
        "y = [4, 5, 6, 7]\n",
        "\n",
        "z = []\n",
        "\n",
        "for i,j in zip(x, y):\n",
        "  z.append(i + j)\n",
        "\n",
        "print(z)\n",
        "\n",
        "# with ufunc, we can use add() function\n",
        "\n",
        "import numpy as np\n",
        "\n",
        "x = [1, 2, 3, 4]\n",
        "y = [4, 5, 6, 7]\n",
        "z = np.add(x, y)\n",
        "\n",
        "print(z)"
      ],
      "metadata": {
        "colab": {
          "base_uri": "https://localhost:8080/"
        },
        "id": "kxB4jTQhnDMf",
        "outputId": "4c64be84-fd5e-4dcd-a300-6bd53c8a9888"
      },
      "execution_count": null,
      "outputs": [
        {
          "output_type": "stream",
          "name": "stdout",
          "text": [
            "[5, 7, 9, 11]\n",
            "[ 5  7  9 11]\n"
          ]
        }
      ]
    },
    {
      "cell_type": "code",
      "source": [
        "#Create your own ufunc\n",
        "\n",
        "#How To create Your own ufunc\n",
        "\n",
        "'''\n",
        "To create your own ufunc, you have to define a function,\n",
        "like you do with normal functions in Python,\n",
        "then you add it to your NumPy ufunc library with the frompyfunc() method.\n",
        "\n",
        "The frompyfunc() method takes the following arguments:\n",
        "\n",
        "function - the name of the function.\n",
        "inputs - the number of input arguments (arrays).\n",
        "outputs - the number of output arrays.\n",
        "'''\n",
        "\n",
        "#Example: create your own ufunc for addition:\n",
        "\n",
        "import numpy as np\n",
        "\n",
        "def myadd(x, y):\n",
        "  return x + y\n",
        "\n",
        "myadd = np.frompyfunc(myadd, 2, 1)\n",
        "\n",
        "print(myadd([1, 2, 3, 4], [5, 6, 7, 8]))\n",
        "\n",
        "#Check if a Function is a ufunc\n",
        "\n",
        "print(type(np.add))\n",
        "\n",
        "#Checking another function: concatenate()\n",
        "\n",
        "print(type(np.concatenate))"
      ],
      "metadata": {
        "colab": {
          "base_uri": "https://localhost:8080/"
        },
        "id": "s5ioUPDopguF",
        "outputId": "8cd72765-fe9c-4556-bb56-1d75e4e4c533"
      },
      "execution_count": null,
      "outputs": [
        {
          "output_type": "stream",
          "name": "stdout",
          "text": [
            "[6 8 10 12]\n",
            "<class 'numpy.ufunc'>\n",
            "<class 'function'>\n"
          ]
        }
      ]
    },
    {
      "cell_type": "code",
      "source": [
        "#Simple Arithmetic\n",
        "\n",
        "'''\n",
        "You could use arithmetic operators + - * / directly between NumPy arrays,\n",
        "but this section discusses an extension of the same where we have\n",
        "functions that can take any array-like objects\n",
        "e.g. lists, tuples etc. and perform arithmetic conditionally.\n",
        "'''\n",
        "\n",
        "#Addition - add() function\n",
        "\n",
        "#Example:\n",
        "\n",
        "import numpy as np\n",
        "\n",
        "arr1 = np.array([10, 11, 12, 13, 14, 15])\n",
        "arr2 = np.array([20, 21, 22, 23, 24, 25])\n",
        "\n",
        "newarr =np.add(arr1, arr2)\n",
        "\n",
        "print(newarr)\n",
        "\n",
        "#subtraction - substraction() function\n",
        "\n",
        "#Example\n",
        "arr1 = np.array([10, 20, 30, 40, 50, 60])\n",
        "arr2 = np.array([20, 21, 22, 23, 24, 25])\n",
        "\n",
        "newarr = np.subtract(arr1, arr2)\n",
        "\n",
        "print(newarr)\n",
        "\n",
        "#Multiplication - The multiply() function\n",
        "\n",
        "arr1 = np.array([10, 20, 30, 40, 50, 60])\n",
        "arr2 = np.array([20, 21, 22, 23, 24, 25])\n",
        "\n",
        "newarr = np.multiply(arr1, arr2)\n",
        "\n",
        "print(newarr)\n",
        "\n",
        "#Divide - divide() function\n",
        "\n",
        "arr1 = np.array([10, 20, 30, 40, 50, 60])\n",
        "arr2 = np.array([3, 5, 10, 8, 2, 33])\n",
        "\n",
        "newarr = np.divide(arr1, arr2)\n",
        "\n",
        "print(newarr)\n",
        "\n",
        "#Power - power() function rises the values\n",
        "\n",
        "arr1 = np.array([10, 20, 30, 40, 50, 60])\n",
        "arr2 = np.array([3, 5, 10, 8, 2, 33])\n",
        "\n",
        "newarr = np.power(arr1, arr2)\n",
        "\n",
        "print(newarr)\n",
        "\n",
        "#Remainder- both the mode() and remainder() functions\n",
        "\n",
        "#Example\n",
        "\n",
        "arr1 = np.array([10, 20, 30, 40, 50, 60])\n",
        "arr2 = np.array([3, 5, 10, 8, 2, 33])\n",
        "\n",
        "newarr = np.mod(arr1, arr2)\n",
        "\n",
        "print(newarr)\n",
        "\n",
        "#Absolute Values: - absolute(), and the abs()\n",
        "\n",
        "arr = np.array([-1, -2, 1, 2, 3, -4])\n",
        "\n",
        "newarr = np.absolute(arr)\n",
        "\n",
        "print(newarr)"
      ],
      "metadata": {
        "colab": {
          "base_uri": "https://localhost:8080/"
        },
        "id": "C9-GoOD3v71R",
        "outputId": "a27abf62-584e-48d8-a17a-a631b2aebda3"
      },
      "execution_count": null,
      "outputs": [
        {
          "output_type": "stream",
          "name": "stdout",
          "text": [
            "[30 32 34 36 38 40]\n",
            "[-10  -1   8  17  26  35]\n",
            "[ 200  420  660  920 1200 1500]\n",
            "[ 3.33333333  4.          3.          5.         25.          1.81818182]\n",
            "[           1000         3200000 590490000000000   6553600000000\n",
            "            2500               0]\n",
            "[ 1  0  0  0  0 27]\n",
            "[1 2 1 2 3 4]\n"
          ]
        }
      ]
    },
    {
      "cell_type": "markdown",
      "source": [
        "**Rounding Decimals**\n",
        "\n",
        "There are primarily five ways of rounding off decimals in NumPy:\n",
        "\n",
        "\n",
        "\n",
        "*   truncation\n",
        "*   fix\n",
        "*   rounding\n",
        "* floor\n",
        "* ceil\n",
        "\n",
        "\n",
        "\n",
        "**Truncation**\n",
        "\n",
        "Remove the decimals, and return the float number closest to zero. Use the trunc() and fix() functions."
      ],
      "metadata": {
        "id": "YcCtqOsFJ2Ly"
      }
    },
    {
      "cell_type": "code",
      "source": [
        "#Example: Truncate elements of following array:\n",
        "\n",
        "#Truncation:\n",
        "\n",
        "import numpy as np\n",
        "\n",
        "arr = np.trunc([-3.1666, 3.6667])\n",
        "\n",
        "print(arr)\n",
        "\n",
        "arr = np.fix([-3.1666, 3.6667])\n",
        "\n",
        "print(arr)\n",
        "\n",
        "#Rounding - using around()\n",
        "\n",
        "arr = np.around(3.1666, 2)\n",
        "\n",
        "print(arr)\n",
        "\n",
        "#Floor- using floor() function rounds off decimal to nearest lower interger\n",
        "\n",
        "arr = np.floor([-3.1666, 3.6667])\n",
        "\n",
        "print(arr)\n",
        "\n",
        "#Ceil - ceil() function rounds off to nearest upper integer\n",
        "\n",
        "arr = np.ceil([-3.1666, 3.6667])\n",
        "\n",
        "print(arr)"
      ],
      "metadata": {
        "colab": {
          "base_uri": "https://localhost:8080/"
        },
        "id": "sjVPkh5wKAU4",
        "outputId": "931856f7-2e5c-496c-8e05-5d5a29a7d8bf"
      },
      "execution_count": null,
      "outputs": [
        {
          "output_type": "stream",
          "name": "stdout",
          "text": [
            "[-3.  3.]\n",
            "[-3.  3.]\n",
            "3.17\n",
            "[-4.  3.]\n",
            "[-3.  4.]\n"
          ]
        }
      ]
    },
    {
      "cell_type": "code",
      "source": [
        "#Numpy Logs\n",
        "\n",
        "#Log at base 2: log2()\n",
        "\n",
        "import numpy as np\n",
        "\n",
        "arr = np.arange(1, 10)\n",
        "\n",
        "print(np.log2(arr))\n",
        "\n",
        "#Log at base 10 - log10()\n",
        "\n",
        "arr = np.arange(1, 10)\n",
        "\n",
        "print(np.log10(arr))"
      ],
      "metadata": {
        "colab": {
          "base_uri": "https://localhost:8080/"
        },
        "id": "wOGTWYAIh7jm",
        "outputId": "978aed61-85bf-4ac2-8b4f-0b887ef13041"
      },
      "execution_count": null,
      "outputs": [
        {
          "output_type": "stream",
          "name": "stdout",
          "text": [
            "[0.         1.         1.5849625  2.         2.32192809 2.5849625\n",
            " 2.80735492 3.         3.169925  ]\n",
            "[0.         0.30103    0.47712125 0.60205999 0.69897    0.77815125\n",
            " 0.84509804 0.90308999 0.95424251]\n"
          ]
        }
      ]
    },
    {
      "cell_type": "code",
      "source": [
        "#Numpy Summations\n",
        "#Addition is done between two arguments whereas summation happens over n elements.\n",
        "\n",
        "#Examples: Add the values in arr1 to the values in arr2\n",
        "\n",
        "import numpy as np\n",
        "\n",
        "arr1 = np.array([1, 2, 3])\n",
        "arr2 = np.array([1, 2, 3])\n",
        "\n",
        "newarr = np.add(arr1, arr2)\n",
        "\n",
        "print(newarr)\n",
        "\n",
        "#Example: Sum the values in arr1 and the values in arr2\n",
        "\n",
        "import numpy as np\n",
        "\n",
        "arr1 = np.array([1, 2, 3])\n",
        "arr2 = np.array([1, 2, 3])\n",
        "\n",
        "newarr = np.sum([arr1, arr2])\n",
        "\n",
        "print(newarr)\n",
        "\n",
        "#Colummative sum - means adding elements in an array cumsum()\n",
        "\n",
        "import numpy as np\n",
        "\n",
        "arr = np.array([1, 2, 3])\n",
        "\n",
        "newarr = (np.cumsum(arr))\n",
        "\n",
        "print(newarr)"
      ],
      "metadata": {
        "colab": {
          "base_uri": "https://localhost:8080/"
        },
        "id": "uDt9usA-pi_f",
        "outputId": "4659c362-373b-401c-8389-2a02bb2d9594"
      },
      "execution_count": null,
      "outputs": [
        {
          "output_type": "stream",
          "name": "stdout",
          "text": [
            "[2 4 6]\n",
            "12\n",
            "[1 3 6]\n"
          ]
        }
      ]
    },
    {
      "cell_type": "code",
      "source": [
        "#Numpy Products\n",
        "\n",
        "#Products - To find product of elements in an array, use prod()\n",
        "\n",
        "#Example: Find the product of elements of this array:\n",
        "\n",
        "import numpy as np\n",
        "\n",
        "arr = np.array([1, 2, 3, 4])\n",
        "\n",
        "x = np.prod(arr)\n",
        "\n",
        "print(x)\n",
        "\n",
        "#Example: Find the product of the elements of two arrays:\n",
        "\n",
        "arr1 = np.array([1, 2, 3, 4])\n",
        "arr2 = np.array([5, 6, 7, 8])\n",
        "\n",
        "x = np.prod([arr1, arr2])\n",
        "\n",
        "print(x)\n",
        "\n",
        "#Product over an axis\n",
        "#If you specify axis = 1, Numpy will return the product of each array\n",
        "\n",
        "#Example: Perform summation in the following array over 1st axis\n",
        "\n",
        "arr1 = np.array([1, 2, 3, 4])\n",
        "arr2 = np.array([5, 6, 7, 8])\n",
        "\n",
        "newarr = np.prod([arr1, arr2], axis = 1)\n",
        "\n",
        "print(newarr)\n",
        "\n",
        "#Cummulative Product - means taking the product partially\n",
        "\n",
        "#Example: Take a cummulative product of all elements for following array:\n",
        "\n",
        "arr = np.array([5, 6, 7, 8])\n",
        "\n",
        "newarr = np.cumprod(arr)\n",
        "\n",
        "print(newarr)\n",
        "\n"
      ],
      "metadata": {
        "colab": {
          "base_uri": "https://localhost:8080/"
        },
        "id": "UVKzDjxwAThw",
        "outputId": "31670afc-0037-4571-9292-27b500a4d909"
      },
      "execution_count": null,
      "outputs": [
        {
          "output_type": "stream",
          "name": "stdout",
          "text": [
            "24\n",
            "40320\n",
            "[  24 1680]\n",
            "[   5   30  210 1680]\n"
          ]
        }
      ]
    },
    {
      "cell_type": "code",
      "source": [
        "#Numpy Diffrences\n",
        "#A discrete diffrence means two successive elements. using diff() function.\n",
        "\n",
        "#Example: Compute discrete diffrence of the following array:\n",
        "\n",
        "import numpy as np\n",
        "\n",
        "arr = np.array([10, 15, 25, 5])\n",
        "\n",
        "newarr = np.diff(arr)\n",
        "\n",
        "print(newarr)\n",
        "\n",
        "#Example: Compute discrete diffrence of the following array twice:\n",
        "\n",
        "arr = np.array([10, 15, 25, 5])\n",
        "\n",
        "newarr = np.diff(arr, n = 2)\n",
        "\n",
        "print(newarr)"
      ],
      "metadata": {
        "colab": {
          "base_uri": "https://localhost:8080/"
        },
        "id": "gVEWSq4EJaHQ",
        "outputId": "877432cb-9573-4cec-f0e0-40b742dcd5a4"
      },
      "execution_count": null,
      "outputs": [
        {
          "output_type": "stream",
          "name": "stdout",
          "text": [
            "[  5  10 -20]\n",
            "[  5 -30]\n"
          ]
        }
      ]
    },
    {
      "cell_type": "code",
      "source": [
        "#Numpy LCM (Lowest Common Multiple)\n",
        "#The LCM is the smallest number that is a common multiple of two numbers.\n",
        "\n",
        "#Example: Fid the LCM of the following two numbers:\n",
        "\n",
        "import numpy as np\n",
        "\n",
        "num1 = 4\n",
        "num2 = 6\n",
        "\n",
        "x = np.lcm(num1, num2)\n",
        "\n",
        "print(x)\n",
        "\n",
        "#Finding LCM in arrays:\n",
        "'''\n",
        "To find the LCM of all values in an array, you can use reduce() method.\n",
        "'''\n",
        "\n",
        "#Example: Find the LCM of the values of the following array:\n",
        "\n",
        "arr = np.array([3, 6, 9])\n",
        "\n",
        "x = np.lcm.reduce(arr)\n",
        "\n",
        "print(x)\n",
        "\n",
        "#Example\n",
        "#Find the LCM of all values of an array where the arrays contains all intergers from 1 to 10\n",
        "\n",
        "arr = np.arange(1, 11)\n",
        "\n",
        "x = np.lcm.reduce(arr)\n",
        "\n",
        "print(x)"
      ],
      "metadata": {
        "colab": {
          "base_uri": "https://localhost:8080/"
        },
        "id": "DPKmhUNQLOOm",
        "outputId": "4dbfea76-c16e-4bf9-d223-b8f1b32134ed"
      },
      "execution_count": null,
      "outputs": [
        {
          "output_type": "stream",
          "name": "stdout",
          "text": [
            "12\n",
            "18\n",
            "2520\n"
          ]
        }
      ]
    },
    {
      "cell_type": "code",
      "source": [
        "#Numpy GCD(Greatest Common Denominator)\n",
        "\n",
        "#Also known as HCF\n",
        "\n",
        "#Example: Find the following two numbers:\n",
        "\n",
        "import numpy as np\n",
        "\n",
        "num1 = 6\n",
        "num2 = 9\n",
        "\n",
        "x = np.gcd(num1, num2)\n",
        "\n",
        "print(x)\n",
        "\n",
        "#Finding GCD in arrays: We use reduce() method\n",
        "\n",
        "#Example: Find the GCD for all of the numbers in the following array:\n",
        "\n",
        "import numpy as np\n",
        "\n",
        "arr = np.array([20, 8, 32, 36, 16])\n",
        "\n",
        "x = np.gcd.reduce(arr)\n",
        "\n",
        "print(x)"
      ],
      "metadata": {
        "colab": {
          "base_uri": "https://localhost:8080/"
        },
        "id": "QxGDJy45LR9b",
        "outputId": "8269724c-6297-4aff-e5a4-4b1814f743ea"
      },
      "execution_count": 1,
      "outputs": [
        {
          "output_type": "stream",
          "name": "stdout",
          "text": [
            "3\n"
          ]
        }
      ]
    },
    {
      "cell_type": "code",
      "source": [
        "#Numpy Trigonometric Functions:\n",
        "\n",
        "#Trigonometric Functions\n",
        "'''\n",
        "Numpy provides the ufuncs sin(), cos() and tan() that take values in\n",
        "in radians to produce the corresponding sin, cos and tan values\n",
        "'''\n",
        "\n",
        "#Example: Find the values of PI/2\n",
        "\n",
        "import numpy as np\n",
        "\n",
        "x = np.sin(np.pi/2)\n",
        "\n",
        "print(x)\n",
        "\n",
        "#Example 2:Find sine values for all of the values in arr:\n",
        "\n",
        "arr = np.array([np.pi/2, np.pi/3, np.pi/4, np.pi/5])\n",
        "\n",
        "x = np.sin(arr)\n",
        "\n",
        "print(x)\n",
        "\n",
        "#Convert Degrees into radians:\n",
        "'''\n",
        "By default all trigonometric functions take radians as parameters, but we\n",
        "can covert :\n",
        "radians = pi/180 * degree_values.\n",
        "'''\n",
        "\n",
        "#Example: Convert all of the values in the following array arr to radians:\n",
        "\n",
        "import numpy as np\n",
        "\n",
        "arr = np.array([90, 180, 270, 360])\n",
        "\n",
        "x = np.deg2rad(arr)\n",
        "\n",
        "print(x)\n",
        "\n",
        "#Radians to Degrees\n",
        "\n",
        "#Examples: Covert all of the values in the following array arr to degrees:\n",
        "\n",
        "arr = np.array([np.pi/2, np.pi, 1.5*np.pi, 2*np.pi])\n",
        "\n",
        "x = np.rad2deg(arr)\n",
        "\n",
        "print(x)\n",
        "\n",
        "#Finding Angles\n",
        "'''\n",
        "Numpy provides a ufuncs arcsin(), arccos() and arctan() that produce\n",
        "radian values of corresponding sin, cos and tan\n",
        "'''\n",
        "\n",
        "#Example: Find the angle of 1.0:\n",
        "\n",
        "x = np.arcsin(1.0)\n",
        "\n",
        "print(x)\n",
        "\n",
        "#Angles of each values in an array:\n",
        "\n",
        "#Example:Find the angle for all of the sine values in the array\n",
        "\n",
        "arr = np.array([1, -1, 0.1])\n",
        "\n",
        "x = np.arcsin(arr)\n",
        "\n",
        "print(x)\n",
        "\n",
        "#Hypotenues\n",
        "'''\n",
        "Finding hypotenues using pythagoras theorem in numpy\n",
        "\n",
        "using hypot() function that takes the base and perpendicular values and\n",
        "produce hypotenues based on pythagoras theorem\n",
        "'''\n",
        "\n",
        "#Example:Find the hypotenues for 4 base and 3 perpendicular:\n",
        "\n",
        "base = 3\n",
        "perp = 4\n",
        "\n",
        "x = np.hypot(base, perp)\n",
        "\n",
        "print(x)"
      ],
      "metadata": {
        "colab": {
          "base_uri": "https://localhost:8080/"
        },
        "id": "N-s6NW2dNEqV",
        "outputId": "656980fc-597a-45bf-f773-bd3203302211"
      },
      "execution_count": 9,
      "outputs": [
        {
          "output_type": "stream",
          "name": "stdout",
          "text": [
            "1.0\n",
            "[1.         0.8660254  0.70710678 0.58778525]\n",
            "[1.57079633 3.14159265 4.71238898 6.28318531]\n",
            "[ 90. 180. 270. 360.]\n",
            "1.5707963267948966\n",
            "[ 1.57079633 -1.57079633  0.10016742]\n",
            "5.0\n"
          ]
        }
      ]
    },
    {
      "cell_type": "code",
      "source": [
        "#Numpy Hyperbolic Functions\n",
        "'''\n",
        "Numpy provides the ufuncs sinh(), cosh() and tanh() that take the values\n",
        "in radians and produce corresponding sinh, cosh and tanh values\n",
        "'''\n",
        "#Example: Find sinh values of PI/2:\n",
        "\n",
        "import numpy as np\n",
        "\n",
        "x = np.sinh(np.pi/2)\n",
        "\n",
        "print(x)\n",
        "\n",
        "#Example2: Find the cosh values for all the values in arr:\n",
        "\n",
        "arr = np.array([np.pi/2, np.pi/3, np.pi/4, np.pi/5])\n",
        "\n",
        "x = np.cosh(arr)\n",
        "\n",
        "print(x)\n",
        "\n",
        "#Finding angles: Using arcsinh(), arccosh(), arctan()\n",
        "\n",
        "#Example: Find the angle for ll of the tanh values in arr\n",
        "\n",
        "arr = np.array([0.1, 0.2, 0.5])\n",
        "\n",
        "x = np.arctanh(arr)\n",
        "\n",
        "print(x)"
      ],
      "metadata": {
        "colab": {
          "base_uri": "https://localhost:8080/"
        },
        "id": "H0Q0ltWIWTaA",
        "outputId": "484f84e5-6ea4-4943-a5a6-14f463e4ca6f"
      },
      "execution_count": 13,
      "outputs": [
        {
          "output_type": "stream",
          "name": "stdout",
          "text": [
            "2.3012989023072947\n",
            "[2.50917848 1.60028686 1.32460909 1.20397209]\n",
            "[0.10033535 0.20273255 0.54930614]\n"
          ]
        }
      ]
    },
    {
      "cell_type": "code",
      "source": [
        "#Numpy Set Operations:\n",
        "\n",
        "#What is a set\n",
        "'''\n",
        "A set in math is a collection of unique elements\n",
        "\n",
        "Sets are used for operations involving, union and diffrence operations\n",
        "'''\n",
        "\n",
        "#Create sets in NUmpy: Using unique() method to find unique elements in arr\n",
        "\n",
        "#Example: Convert following array with repeated elements to a set:\n",
        "\n",
        "import numpy as np\n",
        "\n",
        "arr = np.array([1, 1, 1, 2, 3, 4, 5, 5, 6, 7])\n",
        "\n",
        "x = np.unique(arr)\n",
        "\n",
        "print(x)\n",
        "\n",
        "#Finding Union- Unique values in two arrays using union1d()\n",
        "\n",
        "#Example: Find union of the following two set arrays:\n",
        "\n",
        "import numpy as np\n",
        "\n",
        "arr1 = np.array([1, 2, 3, 4])\n",
        "arr2 = np.array([3, 4, 5, 6])\n",
        "\n",
        "newarr = np.union1d(arr1, arr2)\n",
        "\n",
        "print(newarr)\n",
        "\n",
        "#Finding Intersection: Only values present in both arrays intersect1d()\n",
        "\n",
        "arr1 = np.array([1, 2, 3, 4])\n",
        "arr2 = np.array([3, 4, 5, 6])\n",
        "\n",
        "newarr = np.intersect1d(arr1, arr2, assume_unique=True)\n",
        "\n",
        "print(newarr)\n",
        "\n",
        "#Finding Diffrence: only values in 1st set and Not in 2nd set\n",
        "\n",
        "#Example: Find the diffrence for the set1 from set2\n",
        "\n",
        "set1 = np.array([1, 2, 3, 4])\n",
        "set2 = np.array([3, 4, 5, 6])\n",
        "\n",
        "newarr = np.setdiff1d(set1, set2, assume_unique=True)\n",
        "\n",
        "print(newarr)\n",
        "\n",
        "#Finding Symmetric Diffrence\n",
        "'''\n",
        "To find only the values that are NOT present in BOTH sets,\n",
        "use the setor1d() method\n",
        "'''\n",
        "\n",
        "#Example:Find the symmetric diffrence of the set1 and set2:\n",
        "\n",
        "set1 = np.array([1, 2, 3, 4])\n",
        "set2 = np.array([3, 4, 5, 6])\n",
        "\n",
        "newarr = np.setxor1d(set1, set2, assume_unique=True)\n",
        "\n",
        "print(newarr)\n",
        "\n",
        "'''\n",
        "setor1d() and setdiff1d() methods takes an optional\n",
        "argument assume_unique, which if set to True can speed up computation.\n",
        "'''"
      ],
      "metadata": {
        "colab": {
          "base_uri": "https://localhost:8080/"
        },
        "id": "Kq9v8Xqsc11r",
        "outputId": "27141a70-55ca-4c02-c79e-0ed1bb31d4b1"
      },
      "execution_count": 19,
      "outputs": [
        {
          "output_type": "stream",
          "name": "stdout",
          "text": [
            "[1 2 3 4 5 6 7]\n",
            "[1 2 3 4 5 6]\n",
            "[3 4]\n",
            "[1 2]\n",
            "[1 2 5 6]\n"
          ]
        }
      ]
    }
  ]
}